{
 "metadata": {
  "language_info": {
   "codemirror_mode": {
    "name": "ipython",
    "version": 3
   },
   "file_extension": ".py",
   "mimetype": "text/x-python",
   "name": "python",
   "nbconvert_exporter": "python",
   "pygments_lexer": "ipython3",
   "version": "3.8.5"
  },
  "orig_nbformat": 4,
  "kernelspec": {
   "name": "python3",
   "display_name": "Python 3.8.5 64-bit ('Testing': conda)"
  },
  "interpreter": {
   "hash": "f3f1f5f30ed1cd6fcb1de31f894c97120b2cc4e14f7a3e47865ba6f625a05eeb"
  }
 },
 "nbformat": 4,
 "nbformat_minor": 2,
 "cells": [
  {
   "cell_type": "code",
   "execution_count": 1,
   "source": [
    "import pandas as pd \r\n",
    "import numpy as np\r\n",
    "import sys\r\n",
    "import math"
   ],
   "outputs": [],
   "metadata": {}
  },
  {
   "cell_type": "code",
   "execution_count": 2,
   "source": [
    "gldDf = pd.read_csv(r\"C:\\Users\\Conno\\OneDrive\\College\\Classes\\9\\FI515\\GLD_Monthly.csv\")\r\n",
    "spyDf = pd.read_csv(r\"C:\\Users\\Conno\\OneDrive\\College\\Classes\\9\\FI515\\SPY_MONTHLY.csv\")\r\n",
    "hygDf = pd.read_csv(r\"C:\\Users\\Conno\\OneDrive\\College\\Classes\\9\\FI515\\HYG_MONTHLY.csv\")\r\n",
    "\r\n",
    "print(list(spyDf.columns.values))\r\n",
    "# print(fullExcel)"
   ],
   "outputs": [
    {
     "output_type": "stream",
     "name": "stdout",
     "text": [
      "['Date', 'Open', 'High', 'Low', 'Close', 'Adj Close', 'Volume']\n"
     ]
    }
   ],
   "metadata": {}
  },
  {
   "cell_type": "markdown",
   "source": [
    "## Calculating each month's return\r\n",
    "\r\n",
    "I'm doing each ETF's returns in separate cells so that if one fails I don't have to rerun all of them"
   ],
   "metadata": {}
  },
  {
   "cell_type": "code",
   "execution_count": 3,
   "source": [
    "\r\n",
    "# Initializing variables\r\n",
    "prevMonth = 1\r\n",
    "thisMonth = 1\r\n",
    "\r\n",
    "SPYreturns = []\r\n",
    "\r\n",
    "# Populate the SPY Returns\r\n",
    "for i, spyDfRow in spyDf.iterrows():\r\n",
    "    prevMonth = thisMonth\r\n",
    "    thisMonth = spyDfRow['Adj Close']\r\n",
    "    thisMonthReturn = thisMonth / prevMonth - 1\r\n",
    "    if i == 0:\r\n",
    "        continue\r\n",
    "    SPYreturns.append(thisMonthReturn)\r\n"
   ],
   "outputs": [],
   "metadata": {
    "tags": []
   }
  },
  {
   "cell_type": "code",
   "execution_count": 4,
   "source": [
    "\r\n",
    "# Re-Initializing variables\r\n",
    "prevMonth = 1\r\n",
    "thisMonth = 1\r\n",
    "\r\n",
    "GLDreturns = [] \r\n",
    "\r\n",
    "# Populate the GLD Returns\r\n",
    "for i, gldDfRow in gldDf.iterrows():\r\n",
    "    prevMonth = thisMonth\r\n",
    "    thisMonth = gldDfRow['Adj Close']\r\n",
    "    thisMonthReturn = thisMonth / prevMonth - 1\r\n",
    "    if i == 0:\r\n",
    "        continue\r\n",
    "    GLDreturns.append(thisMonthReturn)\r\n"
   ],
   "outputs": [],
   "metadata": {}
  },
  {
   "cell_type": "code",
   "execution_count": 5,
   "source": [
    "\r\n",
    "# Re-Initializing variables\r\n",
    "prevMonth = 1\r\n",
    "thisMonth = 1\r\n",
    "\r\n",
    "HYGreturns = []\r\n",
    "\r\n",
    "# Populate the HYG Returns\r\n",
    "for i, hygDfRow in hygDf.iterrows():\r\n",
    "    prevMonth = thisMonth\r\n",
    "    thisMonth = hygDfRow['Adj Close']\r\n",
    "    thisMonthReturn = thisMonth / prevMonth - 1\r\n",
    "    if i == 0:\r\n",
    "        continue\r\n",
    "    HYGreturns.append(thisMonthReturn)\r\n"
   ],
   "outputs": [],
   "metadata": {}
  },
  {
   "cell_type": "markdown",
   "source": [
    "## Setting Weights and Finding Combined Returns"
   ],
   "metadata": {}
  },
  {
   "cell_type": "code",
   "execution_count": 6,
   "source": [
    "\r\n",
    "\r\n",
    "# The following method returns a list of the combined returns given weights\r\n",
    "# This assumes all DFs have the same length and range of dates\r\n",
    "def CombinedReturnsGivenWeights(wGLD, wSPY, wHYG):\r\n",
    "    combinedReturns = []\r\n",
    "    for i in range(0, len(SPYreturns)):\r\n",
    "        thisCombinedReturn = wGLD * GLDreturns[i] + wSPY * SPYreturns[i] + wHYG * HYGreturns[i]\r\n",
    "        combinedReturns.append(thisCombinedReturn)\r\n",
    "        \r\n",
    "    return combinedReturns\r\n",
    "\r\n",
    "statsIndexOfAverage = 0\r\n",
    "statsIndexOfStdDev = 1\r\n",
    "\r\n",
    "# Returns a list with 2 indices: 1. The average return, 2. the standard deviation\r\n",
    "def GetStatsFromCombinedReturns(combReturns):\r\n",
    "    averageReturn = sum(combReturns) / len(combReturns)\r\n",
    "    variance = sum([((i - averageReturn) ** 2) for i in combReturns]) / len(combReturns)\r\n",
    "    stdDev = variance ** 0.5\r\n",
    "\r\n",
    "    return [averageReturn, stdDev]\r\n",
    "\r\n"
   ],
   "outputs": [],
   "metadata": {}
  },
  {
   "cell_type": "code",
   "execution_count": 7,
   "source": [
    "\r\n",
    "# Some test weights\r\n",
    "weightGLD = .50\r\n",
    "weightHYG = .20\r\n",
    "weightSPY = 1 - weightHYG - weightGLD\r\n",
    "\r\n",
    "a = CombinedReturnsGivenWeights(weightGLD, weightSPY, weightHYG)\r\n",
    "b = CombinedReturnsGivenWeights(0, 0, 1)\r\n",
    "\r\n",
    "aStats = GetStatsFromCombinedReturns(a)\r\n",
    "bStats = GetStatsFromCombinedReturns(b)\r\n",
    "\r\n",
    "print(\"Stats for a:\\n\", aStats[statsIndexOfAverage], \" | StdDev: \", aStats[statsIndexOfStdDev])\r\n",
    "print(\"Stats for b:\\n\", bStats[statsIndexOfAverage], \" | StdDev: \", bStats[statsIndexOfStdDev])"
   ],
   "outputs": [
    {
     "output_type": "stream",
     "name": "stdout",
     "text": [
      "Stats for a:\n",
      " 0.006040448459098796  | StdDev:  0.02893450118552849\n",
      "Stats for b:\n",
      " 0.005262617808006406  | StdDev:  0.020596770061139358\n"
     ]
    }
   ],
   "metadata": {}
  },
  {
   "cell_type": "markdown",
   "source": [
    "## Now to work on the optimizations\n",
    "\n",
    "This is wildly inefficient. There's almost definitely a better way, but the dataset is small so I can get away with it"
   ],
   "metadata": {}
  },
  {
   "cell_type": "code",
   "execution_count": 8,
   "source": [
    "\r\n",
    "def OptimizeAverage(givenStdDev = None):\r\n",
    "    # Initialize to a super negative number to make sure that it gets overwritten\r\n",
    "    maxAverage = -(sys.float_info.max - 2)\r\n",
    "    stdDevOfBestAverage = 0\r\n",
    "\r\n",
    "    comparisonValue = 0\r\n",
    "    # Determine if we need to maintain a specific average\r\n",
    "    if givenStdDev != None:\r\n",
    "        comparisonValue = round(givenStdDev * 10000)/10000\r\n",
    "\r\n",
    "    bestGLDWeight = 0\r\n",
    "    bestSPYWeight = 0\r\n",
    "    bestHYGWeight = 0\r\n",
    "\r\n",
    "    for i in np.arange(0, 1, 0.01):\r\n",
    "        for j in np.arange(0, 1 - i, 0.01):\r\n",
    "            k = 1 - i - j\r\n",
    "\r\n",
    "            currentCombinedReturns = CombinedReturnsGivenWeights(i, j, k)\r\n",
    "            currentStats = GetStatsFromCombinedReturns(currentCombinedReturns)  \r\n",
    "\r\n",
    "            currentStdDev = currentStats[statsIndexOfStdDev]\r\n",
    "            currentAverage = currentStats[statsIndexOfAverage]\r\n",
    "            \r\n",
    "            if currentAverage >= maxAverage and (givenStdDev == None or round(currentStdDev * 10000)/10000 == comparisonValue):\r\n",
    "                bestGLDWeight = i\r\n",
    "                bestSPYWeight = j\r\n",
    "                bestHYGWeight = k\r\n",
    "\r\n",
    "                maxAverage = currentAverage\r\n",
    "                stdDevOfBestAverage = currentStdDev\r\n",
    "\r\n",
    "    return {\r\n",
    "        \"StdDev\" : stdDevOfBestAverage,\r\n",
    "        \"Average\" : maxAverage,\r\n",
    "        \"GLDWeight\" : bestGLDWeight,\r\n",
    "        \"SPYWeight\" : bestSPYWeight,\r\n",
    "        \"HYGWeight\" : bestHYGWeight\r\n",
    "    }\r\n",
    "\r\n",
    "OptimizeAverage()"
   ],
   "outputs": [
    {
     "output_type": "execute_result",
     "data": {
      "text/plain": [
       "{'StdDev': 0.03848549313117964,\n",
       " 'Average': 0.01394713336674889,\n",
       " 'GLDWeight': 0.0,\n",
       " 'SPYWeight': 0.99,\n",
       " 'HYGWeight': 0.010000000000000009}"
      ]
     },
     "metadata": {},
     "execution_count": 8
    }
   ],
   "metadata": {}
  },
  {
   "cell_type": "code",
   "execution_count": 9,
   "source": [
    "\r\n",
    "def OptimizeStdDev(givenAverage = None):\r\n",
    "    # Initialize to a super positive number to make sure that it gets overwritten\r\n",
    "    minStdDev = sys.float_info.max - 2\r\n",
    "    avgOfMinStdDev = 0\r\n",
    "\r\n",
    "    comparisonValue = 0\r\n",
    "    # Determine if we need to maintain a specific average\r\n",
    "    if givenAverage != None:\r\n",
    "        comparisonValue = round(givenAverage * 10000)/10000\r\n",
    "\r\n",
    "    bestGLDWeight = 0\r\n",
    "    bestSPYWeight = 0\r\n",
    "    bestHYGWeight = 0\r\n",
    "\r\n",
    "    for i in np.arange(0, 1, 0.01):\r\n",
    "        for j in np.arange(0, 1 - i, 0.01):\r\n",
    "            k = 1 - i - j\r\n",
    "\r\n",
    "            currentCombinedReturns = CombinedReturnsGivenWeights(i, j, k)\r\n",
    "            currentStats = GetStatsFromCombinedReturns(currentCombinedReturns)\r\n",
    "\r\n",
    "            currentStdDev = currentStats[statsIndexOfStdDev]\r\n",
    "            currentAverage = currentStats[statsIndexOfAverage]\r\n",
    "            \r\n",
    "            if currentStdDev <= minStdDev and (givenAverage == None or round(currentAverage * 10000)/10000 == comparisonValue):\r\n",
    "                bestGLDWeight = i\r\n",
    "                bestSPYWeight = j\r\n",
    "                bestHYGWeight = k\r\n",
    "\r\n",
    "                minStdDev = currentStdDev\r\n",
    "                avgOfMinStdDev = currentAverage\r\n",
    "\r\n",
    "    return {\r\n",
    "        \"StdDev\" : minStdDev,\r\n",
    "        \"Average\" : avgOfMinStdDev,\r\n",
    "        \"GLDWeight\" : bestGLDWeight,\r\n",
    "        \"SPYWeight\" : bestSPYWeight,\r\n",
    "        \"HYGWeight\" : bestHYGWeight\r\n",
    "    }\r\n",
    "\r\n",
    "OptimizeStdDev(.006)"
   ],
   "outputs": [
    {
     "output_type": "execute_result",
     "data": {
      "text/plain": [
       "{'StdDev': 0.021297335009892344,\n",
       " 'Average': 0.005954457528784305,\n",
       " 'GLDWeight': 0.05,\n",
       " 'SPYWeight': 0.1,\n",
       " 'HYGWeight': 0.85}"
      ]
     },
     "metadata": {},
     "execution_count": 9
    }
   ],
   "metadata": {
    "tags": []
   }
  },
  {
   "cell_type": "code",
   "execution_count": 10,
   "source": [
    "OptimizeAverage()"
   ],
   "outputs": [
    {
     "output_type": "execute_result",
     "data": {
      "text/plain": [
       "{'StdDev': 0.03848549313117964,\n",
       " 'Average': 0.01394713336674889,\n",
       " 'GLDWeight': 0.0,\n",
       " 'SPYWeight': 0.99,\n",
       " 'HYGWeight': 0.010000000000000009}"
      ]
     },
     "metadata": {},
     "execution_count": 10
    }
   ],
   "metadata": {}
  },
  {
   "cell_type": "code",
   "execution_count": 11,
   "source": [
    "OptimizeStdDev()"
   ],
   "outputs": [
    {
     "output_type": "execute_result",
     "data": {
      "text/plain": [
       "{'StdDev': 0.020282783077293216,\n",
       " 'Average': 0.004966003291151251,\n",
       " 'GLDWeight': 0.08,\n",
       " 'SPYWeight': 0.0,\n",
       " 'HYGWeight': 0.92}"
      ]
     },
     "metadata": {},
     "execution_count": 11
    }
   ],
   "metadata": {}
  },
  {
   "cell_type": "code",
   "execution_count": 12,
   "source": [
    "OptimizeStdDev(.011)"
   ],
   "outputs": [
    {
     "output_type": "execute_result",
     "data": {
      "text/plain": [
       "{'StdDev': 0.030935227113256684,\n",
       " 'Average': 0.010954633153514826,\n",
       " 'GLDWeight': 0.05,\n",
       " 'SPYWeight': 0.67,\n",
       " 'HYGWeight': 0.2799999999999999}"
      ]
     },
     "metadata": {},
     "execution_count": 12
    }
   ],
   "metadata": {}
  },
  {
   "cell_type": "code",
   "execution_count": 13,
   "source": [
    "stdDevs = []\r\n",
    "averages = []\r\n",
    "\r\n",
    "for i in np.arange(.002,.013,.0001):\r\n",
    "    stdDevs.append(OptimizeStdDev(i)[\"StdDev\"])\r\n",
    "    averages.append(i)\r\n",
    "\r\n",
    "print(stdDevs)"
   ],
   "outputs": [
    {
     "output_type": "stream",
     "name": "stdout",
     "text": [
      "[0.03996519080841734, 0.03884124920800809, 0.03809859806613818, 0.036995386396406774, 0.035906150175576836, 0.03518839841598085, 0.03412544014693948, 0.03308028889172886, 0.03239426652812402, 0.03138276004691008, 0.030394149407839653, 0.02943074199009548, 0.028803723777286135, 0.027888134316024014, 0.027005168646322863, 0.026436268478193706, 0.025615164753867763, 0.02483615520731392, 0.024342205960034797, 0.02364255078124311, 0.022996412539435577, 0.022597668094010193, 0.022051046729264476, 0.021570356654972353, 0.021160091596837658, 0.02092778126332146, 0.020643897284625953, 0.020440316225251758, 0.02035043753070996, 0.02028560120652923, 0.020282783077293216, 0.020330765333421923, 0.02040953039490128, 0.020499734105734083, 0.02062708301001665, 0.02072047195645214, 0.02081688951934831, 0.020942675185579625, 0.021070123459472682, 0.02117637036788433, 0.021297335009892344, 0.02145661982083457, 0.021573042234809846, 0.02169214823295701, 0.02184604537963102, 0.02199721167207854, 0.022124965383920343, 0.022273292502587687, 0.02245774862424252, 0.022593602487449117, 0.022736345373099435, 0.022914830433445416, 0.023086581391784464, 0.023233063181293825, 0.023405305799167095, 0.023607888890473983, 0.023761334779200036, 0.023927373594976802, 0.02412705761427755, 0.024316431885398046, 0.024479012573973676, 0.024671903462515302, 0.02488975818935804, 0.025058269850131897, 0.025244459068214955, 0.025462247833139835, 0.02566327533674136, 0.025842882746938002, 0.02605346429247515, 0.026284090394170404, 0.02646541980659463, 0.02666893174471786, 0.026902098813554542, 0.027088621173960662, 0.02730701047371651, 0.027532687538257748, 0.027723690010696363, 0.0279661528183804, 0.028159589490102027, 0.028379650462155452, 0.028627332494696026, 0.02884217350929472, 0.029055087587910575, 0.02929509825972174, 0.02954270547989061, 0.02974867477670711, 0.029981217122954228, 0.03023971948748635, 0.030459172166057365, 0.030684457957454555, 0.030935227113256684, 0.03118542398228471, 0.03140367051721771, 0.031646925605148146, 0.03191461740122068, 0.032137782524736196, 0.032373747169719025, 0.03263371678671071, 0.03288579619079658, 0.03311469603064627, 0.033367171300640576, 0.033642691231754736, 0.033868845011860216, 0.03411405504684893, 0.03438191917776219, 0.034635331866676514, 0.03487350519684944, 0.035133944287814536, 0.0354161579371412, 0.03564471853629976]\n"
     ]
    }
   ],
   "metadata": {}
  },
  {
   "cell_type": "code",
   "execution_count": 14,
   "source": [
    "print(len(stdDevs))"
   ],
   "outputs": [
    {
     "output_type": "stream",
     "name": "stdout",
     "text": [
      "0.03996519080841734\n",
      "0.03884124920800809\n",
      "0.03809859806613818\n",
      "0.036995386396406774\n",
      "0.035906150175576836\n",
      "0.03518839841598085\n",
      "0.03412544014693948\n",
      "0.03308028889172886\n",
      "0.03239426652812402\n",
      "0.03138276004691008\n",
      "0.030394149407839653\n",
      "0.02943074199009548\n",
      "0.028803723777286135\n",
      "0.027888134316024014\n",
      "0.027005168646322863\n",
      "0.026436268478193706\n",
      "0.025615164753867763\n",
      "0.02483615520731392\n",
      "0.024342205960034797\n",
      "0.02364255078124311\n",
      "0.022996412539435577\n",
      "0.022597668094010193\n",
      "0.022051046729264476\n",
      "0.021570356654972353\n",
      "0.021160091596837658\n",
      "0.02092778126332146\n",
      "0.020643897284625953\n",
      "0.020440316225251758\n",
      "0.02035043753070996\n",
      "0.02028560120652923\n",
      "0.020282783077293216\n",
      "0.020330765333421923\n",
      "0.02040953039490128\n",
      "0.020499734105734083\n",
      "0.02062708301001665\n",
      "0.02072047195645214\n",
      "0.02081688951934831\n",
      "0.020942675185579625\n",
      "0.021070123459472682\n",
      "0.02117637036788433\n",
      "0.021297335009892344\n",
      "0.02145661982083457\n",
      "0.021573042234809846\n",
      "0.02169214823295701\n",
      "0.02184604537963102\n",
      "0.02199721167207854\n",
      "0.022124965383920343\n",
      "0.022273292502587687\n",
      "0.02245774862424252\n",
      "0.022593602487449117\n",
      "0.022736345373099435\n",
      "0.022914830433445416\n",
      "0.023086581391784464\n",
      "0.023233063181293825\n",
      "0.023405305799167095\n",
      "0.023607888890473983\n",
      "0.023761334779200036\n",
      "0.023927373594976802\n",
      "0.02412705761427755\n",
      "0.024316431885398046\n",
      "0.024479012573973676\n",
      "0.024671903462515302\n",
      "0.02488975818935804\n",
      "0.025058269850131897\n",
      "0.025244459068214955\n",
      "0.025462247833139835\n",
      "0.02566327533674136\n",
      "0.025842882746938002\n",
      "0.02605346429247515\n",
      "0.026284090394170404\n",
      "0.02646541980659463\n",
      "0.02666893174471786\n",
      "0.026902098813554542\n",
      "0.027088621173960662\n",
      "0.02730701047371651\n",
      "0.027532687538257748\n",
      "0.027723690010696363\n",
      "0.0279661528183804\n",
      "0.028159589490102027\n",
      "0.028379650462155452\n",
      "0.028627332494696026\n",
      "0.02884217350929472\n",
      "0.029055087587910575\n",
      "0.02929509825972174\n",
      "0.02954270547989061\n",
      "0.02974867477670711\n",
      "0.029981217122954228\n",
      "0.03023971948748635\n",
      "0.030459172166057365\n",
      "0.030684457957454555\n",
      "0.030935227113256684\n",
      "0.03118542398228471\n",
      "0.03140367051721771\n",
      "0.031646925605148146\n",
      "0.03191461740122068\n",
      "0.032137782524736196\n",
      "0.032373747169719025\n",
      "0.03263371678671071\n",
      "0.03288579619079658\n",
      "0.03311469603064627\n",
      "0.033367171300640576\n",
      "0.033642691231754736\n",
      "0.033868845011860216\n",
      "0.03411405504684893\n",
      "0.03438191917776219\n",
      "0.034635331866676514\n",
      "0.03487350519684944\n",
      "0.035133944287814536\n",
      "0.0354161579371412\n",
      "0.03564471853629976\n"
     ]
    }
   ],
   "metadata": {}
  },
  {
   "cell_type": "code",
   "execution_count": 15,
   "source": [
    "import matplotlib.pyplot as plt\r\n",
    "\r\n",
    "df = pd.DataFrame()\r\n",
    "\r\n",
    "df[\"Standard_Deviations\"] = stdDevs\r\n",
    "df[\"Averages\"] = averages\r\n",
    "\r\n",
    "plt.style.use('seaborn')\r\n",
    "df.plot.scatter(y='Averages', x='Standard_Deviations', figsize=(10, 8), grid=True)\r\n",
    "plt.xlabel('Volatility (Std. Deviation)')\r\n",
    "plt.ylabel('Expected Returns')\r\n",
    "plt.title('Efficient Frontier')\r\n",
    "plt.show()"
   ],
   "outputs": [
    {
     "output_type": "display_data",
     "data": {
      "text/plain": [
       "<Figure size 720x576 with 1 Axes>"
      ],
      "image/svg+xml": "<?xml version=\"1.0\" encoding=\"utf-8\" standalone=\"no\"?>\r\n<!DOCTYPE svg PUBLIC \"-//W3C//DTD SVG 1.1//EN\"\r\n  \"http://www.w3.org/Graphics/SVG/1.1/DTD/svg11.dtd\">\r\n<svg height=\"494.3375pt\" version=\"1.1\" viewBox=\"0 0 618.481719 494.3375\" width=\"618.481719pt\" xmlns=\"http://www.w3.org/2000/svg\" xmlns:xlink=\"http://www.w3.org/1999/xlink\">\r\n <metadata>\r\n  <rdf:RDF xmlns:cc=\"http://creativecommons.org/ns#\" xmlns:dc=\"http://purl.org/dc/elements/1.1/\" xmlns:rdf=\"http://www.w3.org/1999/02/22-rdf-syntax-ns#\">\r\n   <cc:Work>\r\n    <dc:type rdf:resource=\"http://purl.org/dc/dcmitype/StillImage\"/>\r\n    <dc:date>2021-08-31T12:21:14.647307</dc:date>\r\n    <dc:format>image/svg+xml</dc:format>\r\n    <dc:creator>\r\n     <cc:Agent>\r\n      <dc:title>Matplotlib v3.4.2, https://matplotlib.org/</dc:title>\r\n     </cc:Agent>\r\n    </dc:creator>\r\n   </cc:Work>\r\n  </rdf:RDF>\r\n </metadata>\r\n <defs>\r\n  <style type=\"text/css\">*{stroke-linecap:butt;stroke-linejoin:round;}</style>\r\n </defs>\r\n <g id=\"figure_1\">\r\n  <g id=\"patch_1\">\r\n   <path d=\"M 0 494.3375 \r\nL 618.481719 494.3375 \r\nL 618.481719 0 \r\nL 0 0 \r\nz\r\n\" style=\"fill:#ffffff;\"/>\r\n  </g>\r\n  <g id=\"axes_1\">\r\n   <g id=\"patch_2\">\r\n    <path d=\"M 53.281719 456.669375 \r\nL 611.281719 456.669375 \r\nL 611.281719 21.789375 \r\nL 53.281719 21.789375 \r\nz\r\n\" style=\"fill:#eaeaf2;\"/>\r\n   </g>\r\n   <g id=\"matplotlib.axis_1\">\r\n    <g id=\"xtick_1\">\r\n     <g id=\"line2d_1\">\r\n      <path clip-path=\"url(#pf4309439bc)\" d=\"M 71.357215 456.669375 \r\nL 71.357215 21.789375 \r\n\" style=\"fill:none;stroke:#ffffff;stroke-linecap:round;\"/>\r\n     </g>\r\n     <g id=\"line2d_2\"/>\r\n     <g id=\"text_1\">\r\n      <!-- 0.0200 -->\r\n      <g style=\"fill:#262626;\" transform=\"translate(56.065809 470.827187)scale(0.1 -0.1)\">\r\n       <defs>\r\n        <path d=\"M 266 2259 \r\nQ 266 3072 433 3567 \r\nQ 600 4063 929 4331 \r\nQ 1259 4600 1759 4600 \r\nQ 2128 4600 2406 4451 \r\nQ 2684 4303 2865 4023 \r\nQ 3047 3744 3150 3342 \r\nQ 3253 2941 3253 2259 \r\nQ 3253 1453 3087 958 \r\nQ 2922 463 2592 192 \r\nQ 2263 -78 1759 -78 \r\nQ 1097 -78 719 397 \r\nQ 266 969 266 2259 \r\nz\r\nM 844 2259 \r\nQ 844 1131 1108 757 \r\nQ 1372 384 1759 384 \r\nQ 2147 384 2411 759 \r\nQ 2675 1134 2675 2259 \r\nQ 2675 3391 2411 3762 \r\nQ 2147 4134 1753 4134 \r\nQ 1366 4134 1134 3806 \r\nQ 844 3388 844 2259 \r\nz\r\n\" id=\"ArialMT-30\" transform=\"scale(0.015625)\"/>\r\n        <path d=\"M 581 0 \r\nL 581 641 \r\nL 1222 641 \r\nL 1222 0 \r\nL 581 0 \r\nz\r\n\" id=\"ArialMT-2e\" transform=\"scale(0.015625)\"/>\r\n        <path d=\"M 3222 541 \r\nL 3222 0 \r\nL 194 0 \r\nQ 188 203 259 391 \r\nQ 375 700 629 1000 \r\nQ 884 1300 1366 1694 \r\nQ 2113 2306 2375 2664 \r\nQ 2638 3022 2638 3341 \r\nQ 2638 3675 2398 3904 \r\nQ 2159 4134 1775 4134 \r\nQ 1369 4134 1125 3890 \r\nQ 881 3647 878 3216 \r\nL 300 3275 \r\nQ 359 3922 746 4261 \r\nQ 1134 4600 1788 4600 \r\nQ 2447 4600 2831 4234 \r\nQ 3216 3869 3216 3328 \r\nQ 3216 3053 3103 2787 \r\nQ 2991 2522 2730 2228 \r\nQ 2469 1934 1863 1422 \r\nQ 1356 997 1212 845 \r\nQ 1069 694 975 541 \r\nL 3222 541 \r\nz\r\n\" id=\"ArialMT-32\" transform=\"scale(0.015625)\"/>\r\n       </defs>\r\n       <use xlink:href=\"#ArialMT-30\"/>\r\n       <use x=\"55.615234\" xlink:href=\"#ArialMT-2e\"/>\r\n       <use x=\"83.398438\" xlink:href=\"#ArialMT-30\"/>\r\n       <use x=\"139.013672\" xlink:href=\"#ArialMT-32\"/>\r\n       <use x=\"194.628906\" xlink:href=\"#ArialMT-30\"/>\r\n       <use x=\"250.244141\" xlink:href=\"#ArialMT-30\"/>\r\n      </g>\r\n     </g>\r\n    </g>\r\n    <g id=\"xtick_2\">\r\n     <g id=\"line2d_3\">\r\n      <path clip-path=\"url(#pf4309439bc)\" d=\"M 135.789465 456.669375 \r\nL 135.789465 21.789375 \r\n\" style=\"fill:none;stroke:#ffffff;stroke-linecap:round;\"/>\r\n     </g>\r\n     <g id=\"line2d_4\"/>\r\n     <g id=\"text_2\">\r\n      <!-- 0.0225 -->\r\n      <g style=\"fill:#262626;\" transform=\"translate(120.498059 470.827187)scale(0.1 -0.1)\">\r\n       <defs>\r\n        <path d=\"M 266 1200 \r\nL 856 1250 \r\nQ 922 819 1161 601 \r\nQ 1400 384 1738 384 \r\nQ 2144 384 2425 690 \r\nQ 2706 997 2706 1503 \r\nQ 2706 1984 2436 2262 \r\nQ 2166 2541 1728 2541 \r\nQ 1456 2541 1237 2417 \r\nQ 1019 2294 894 2097 \r\nL 366 2166 \r\nL 809 4519 \r\nL 3088 4519 \r\nL 3088 3981 \r\nL 1259 3981 \r\nL 1013 2750 \r\nQ 1425 3038 1878 3038 \r\nQ 2478 3038 2890 2622 \r\nQ 3303 2206 3303 1553 \r\nQ 3303 931 2941 478 \r\nQ 2500 -78 1738 -78 \r\nQ 1113 -78 717 272 \r\nQ 322 622 266 1200 \r\nz\r\n\" id=\"ArialMT-35\" transform=\"scale(0.015625)\"/>\r\n       </defs>\r\n       <use xlink:href=\"#ArialMT-30\"/>\r\n       <use x=\"55.615234\" xlink:href=\"#ArialMT-2e\"/>\r\n       <use x=\"83.398438\" xlink:href=\"#ArialMT-30\"/>\r\n       <use x=\"139.013672\" xlink:href=\"#ArialMT-32\"/>\r\n       <use x=\"194.628906\" xlink:href=\"#ArialMT-32\"/>\r\n       <use x=\"250.244141\" xlink:href=\"#ArialMT-35\"/>\r\n      </g>\r\n     </g>\r\n    </g>\r\n    <g id=\"xtick_3\">\r\n     <g id=\"line2d_5\">\r\n      <path clip-path=\"url(#pf4309439bc)\" d=\"M 200.221715 456.669375 \r\nL 200.221715 21.789375 \r\n\" style=\"fill:none;stroke:#ffffff;stroke-linecap:round;\"/>\r\n     </g>\r\n     <g id=\"line2d_6\"/>\r\n     <g id=\"text_3\">\r\n      <!-- 0.0250 -->\r\n      <g style=\"fill:#262626;\" transform=\"translate(184.930309 470.827187)scale(0.1 -0.1)\">\r\n       <use xlink:href=\"#ArialMT-30\"/>\r\n       <use x=\"55.615234\" xlink:href=\"#ArialMT-2e\"/>\r\n       <use x=\"83.398438\" xlink:href=\"#ArialMT-30\"/>\r\n       <use x=\"139.013672\" xlink:href=\"#ArialMT-32\"/>\r\n       <use x=\"194.628906\" xlink:href=\"#ArialMT-35\"/>\r\n       <use x=\"250.244141\" xlink:href=\"#ArialMT-30\"/>\r\n      </g>\r\n     </g>\r\n    </g>\r\n    <g id=\"xtick_4\">\r\n     <g id=\"line2d_7\">\r\n      <path clip-path=\"url(#pf4309439bc)\" d=\"M 264.653966 456.669375 \r\nL 264.653966 21.789375 \r\n\" style=\"fill:none;stroke:#ffffff;stroke-linecap:round;\"/>\r\n     </g>\r\n     <g id=\"line2d_8\"/>\r\n     <g id=\"text_4\">\r\n      <!-- 0.0275 -->\r\n      <g style=\"fill:#262626;\" transform=\"translate(249.362559 470.827187)scale(0.1 -0.1)\">\r\n       <defs>\r\n        <path d=\"M 303 3981 \r\nL 303 4522 \r\nL 3269 4522 \r\nL 3269 4084 \r\nQ 2831 3619 2401 2847 \r\nQ 1972 2075 1738 1259 \r\nQ 1569 684 1522 0 \r\nL 944 0 \r\nQ 953 541 1156 1306 \r\nQ 1359 2072 1739 2783 \r\nQ 2119 3494 2547 3981 \r\nL 303 3981 \r\nz\r\n\" id=\"ArialMT-37\" transform=\"scale(0.015625)\"/>\r\n       </defs>\r\n       <use xlink:href=\"#ArialMT-30\"/>\r\n       <use x=\"55.615234\" xlink:href=\"#ArialMT-2e\"/>\r\n       <use x=\"83.398438\" xlink:href=\"#ArialMT-30\"/>\r\n       <use x=\"139.013672\" xlink:href=\"#ArialMT-32\"/>\r\n       <use x=\"194.628906\" xlink:href=\"#ArialMT-37\"/>\r\n       <use x=\"250.244141\" xlink:href=\"#ArialMT-35\"/>\r\n      </g>\r\n     </g>\r\n    </g>\r\n    <g id=\"xtick_5\">\r\n     <g id=\"line2d_9\">\r\n      <path clip-path=\"url(#pf4309439bc)\" d=\"M 329.086216 456.669375 \r\nL 329.086216 21.789375 \r\n\" style=\"fill:none;stroke:#ffffff;stroke-linecap:round;\"/>\r\n     </g>\r\n     <g id=\"line2d_10\"/>\r\n     <g id=\"text_5\">\r\n      <!-- 0.0300 -->\r\n      <g style=\"fill:#262626;\" transform=\"translate(313.794809 470.827187)scale(0.1 -0.1)\">\r\n       <defs>\r\n        <path d=\"M 269 1209 \r\nL 831 1284 \r\nQ 928 806 1161 595 \r\nQ 1394 384 1728 384 \r\nQ 2125 384 2398 659 \r\nQ 2672 934 2672 1341 \r\nQ 2672 1728 2419 1979 \r\nQ 2166 2231 1775 2231 \r\nQ 1616 2231 1378 2169 \r\nL 1441 2663 \r\nQ 1497 2656 1531 2656 \r\nQ 1891 2656 2178 2843 \r\nQ 2466 3031 2466 3422 \r\nQ 2466 3731 2256 3934 \r\nQ 2047 4138 1716 4138 \r\nQ 1388 4138 1169 3931 \r\nQ 950 3725 888 3313 \r\nL 325 3413 \r\nQ 428 3978 793 4289 \r\nQ 1159 4600 1703 4600 \r\nQ 2078 4600 2393 4439 \r\nQ 2709 4278 2876 4000 \r\nQ 3044 3722 3044 3409 \r\nQ 3044 3113 2884 2869 \r\nQ 2725 2625 2413 2481 \r\nQ 2819 2388 3044 2092 \r\nQ 3269 1797 3269 1353 \r\nQ 3269 753 2831 336 \r\nQ 2394 -81 1725 -81 \r\nQ 1122 -81 723 278 \r\nQ 325 638 269 1209 \r\nz\r\n\" id=\"ArialMT-33\" transform=\"scale(0.015625)\"/>\r\n       </defs>\r\n       <use xlink:href=\"#ArialMT-30\"/>\r\n       <use x=\"55.615234\" xlink:href=\"#ArialMT-2e\"/>\r\n       <use x=\"83.398438\" xlink:href=\"#ArialMT-30\"/>\r\n       <use x=\"139.013672\" xlink:href=\"#ArialMT-33\"/>\r\n       <use x=\"194.628906\" xlink:href=\"#ArialMT-30\"/>\r\n       <use x=\"250.244141\" xlink:href=\"#ArialMT-30\"/>\r\n      </g>\r\n     </g>\r\n    </g>\r\n    <g id=\"xtick_6\">\r\n     <g id=\"line2d_11\">\r\n      <path clip-path=\"url(#pf4309439bc)\" d=\"M 393.518466 456.669375 \r\nL 393.518466 21.789375 \r\n\" style=\"fill:none;stroke:#ffffff;stroke-linecap:round;\"/>\r\n     </g>\r\n     <g id=\"line2d_12\"/>\r\n     <g id=\"text_6\">\r\n      <!-- 0.0325 -->\r\n      <g style=\"fill:#262626;\" transform=\"translate(378.22706 470.827187)scale(0.1 -0.1)\">\r\n       <use xlink:href=\"#ArialMT-30\"/>\r\n       <use x=\"55.615234\" xlink:href=\"#ArialMT-2e\"/>\r\n       <use x=\"83.398438\" xlink:href=\"#ArialMT-30\"/>\r\n       <use x=\"139.013672\" xlink:href=\"#ArialMT-33\"/>\r\n       <use x=\"194.628906\" xlink:href=\"#ArialMT-32\"/>\r\n       <use x=\"250.244141\" xlink:href=\"#ArialMT-35\"/>\r\n      </g>\r\n     </g>\r\n    </g>\r\n    <g id=\"xtick_7\">\r\n     <g id=\"line2d_13\">\r\n      <path clip-path=\"url(#pf4309439bc)\" d=\"M 457.950716 456.669375 \r\nL 457.950716 21.789375 \r\n\" style=\"fill:none;stroke:#ffffff;stroke-linecap:round;\"/>\r\n     </g>\r\n     <g id=\"line2d_14\"/>\r\n     <g id=\"text_7\">\r\n      <!-- 0.0350 -->\r\n      <g style=\"fill:#262626;\" transform=\"translate(442.65931 470.827187)scale(0.1 -0.1)\">\r\n       <use xlink:href=\"#ArialMT-30\"/>\r\n       <use x=\"55.615234\" xlink:href=\"#ArialMT-2e\"/>\r\n       <use x=\"83.398438\" xlink:href=\"#ArialMT-30\"/>\r\n       <use x=\"139.013672\" xlink:href=\"#ArialMT-33\"/>\r\n       <use x=\"194.628906\" xlink:href=\"#ArialMT-35\"/>\r\n       <use x=\"250.244141\" xlink:href=\"#ArialMT-30\"/>\r\n      </g>\r\n     </g>\r\n    </g>\r\n    <g id=\"xtick_8\">\r\n     <g id=\"line2d_15\">\r\n      <path clip-path=\"url(#pf4309439bc)\" d=\"M 522.382966 456.669375 \r\nL 522.382966 21.789375 \r\n\" style=\"fill:none;stroke:#ffffff;stroke-linecap:round;\"/>\r\n     </g>\r\n     <g id=\"line2d_16\"/>\r\n     <g id=\"text_8\">\r\n      <!-- 0.0375 -->\r\n      <g style=\"fill:#262626;\" transform=\"translate(507.09156 470.827187)scale(0.1 -0.1)\">\r\n       <use xlink:href=\"#ArialMT-30\"/>\r\n       <use x=\"55.615234\" xlink:href=\"#ArialMT-2e\"/>\r\n       <use x=\"83.398438\" xlink:href=\"#ArialMT-30\"/>\r\n       <use x=\"139.013672\" xlink:href=\"#ArialMT-33\"/>\r\n       <use x=\"194.628906\" xlink:href=\"#ArialMT-37\"/>\r\n       <use x=\"250.244141\" xlink:href=\"#ArialMT-35\"/>\r\n      </g>\r\n     </g>\r\n    </g>\r\n    <g id=\"xtick_9\">\r\n     <g id=\"line2d_17\">\r\n      <path clip-path=\"url(#pf4309439bc)\" d=\"M 586.815216 456.669375 \r\nL 586.815216 21.789375 \r\n\" style=\"fill:none;stroke:#ffffff;stroke-linecap:round;\"/>\r\n     </g>\r\n     <g id=\"line2d_18\"/>\r\n     <g id=\"text_9\">\r\n      <!-- 0.0400 -->\r\n      <g style=\"fill:#262626;\" transform=\"translate(571.52381 470.827187)scale(0.1 -0.1)\">\r\n       <defs>\r\n        <path d=\"M 2069 0 \r\nL 2069 1097 \r\nL 81 1097 \r\nL 81 1613 \r\nL 2172 4581 \r\nL 2631 4581 \r\nL 2631 1613 \r\nL 3250 1613 \r\nL 3250 1097 \r\nL 2631 1097 \r\nL 2631 0 \r\nL 2069 0 \r\nz\r\nM 2069 1613 \r\nL 2069 3678 \r\nL 634 1613 \r\nL 2069 1613 \r\nz\r\n\" id=\"ArialMT-34\" transform=\"scale(0.015625)\"/>\r\n       </defs>\r\n       <use xlink:href=\"#ArialMT-30\"/>\r\n       <use x=\"55.615234\" xlink:href=\"#ArialMT-2e\"/>\r\n       <use x=\"83.398438\" xlink:href=\"#ArialMT-30\"/>\r\n       <use x=\"139.013672\" xlink:href=\"#ArialMT-34\"/>\r\n       <use x=\"194.628906\" xlink:href=\"#ArialMT-30\"/>\r\n       <use x=\"250.244141\" xlink:href=\"#ArialMT-30\"/>\r\n      </g>\r\n     </g>\r\n    </g>\r\n    <g id=\"text_10\">\r\n     <!-- Volatility (Std. Deviation) -->\r\n     <g style=\"fill:#262626;\" transform=\"translate(272.674609 484.822344)scale(0.11 -0.11)\">\r\n      <defs>\r\n       <path d=\"M 1803 0 \r\nL 28 4581 \r\nL 684 4581 \r\nL 1875 1253 \r\nQ 2019 853 2116 503 \r\nQ 2222 878 2363 1253 \r\nL 3600 4581 \r\nL 4219 4581 \r\nL 2425 0 \r\nL 1803 0 \r\nz\r\n\" id=\"ArialMT-56\" transform=\"scale(0.015625)\"/>\r\n       <path d=\"M 213 1659 \r\nQ 213 2581 725 3025 \r\nQ 1153 3394 1769 3394 \r\nQ 2453 3394 2887 2945 \r\nQ 3322 2497 3322 1706 \r\nQ 3322 1066 3130 698 \r\nQ 2938 331 2570 128 \r\nQ 2203 -75 1769 -75 \r\nQ 1072 -75 642 372 \r\nQ 213 819 213 1659 \r\nz\r\nM 791 1659 \r\nQ 791 1022 1069 705 \r\nQ 1347 388 1769 388 \r\nQ 2188 388 2466 706 \r\nQ 2744 1025 2744 1678 \r\nQ 2744 2294 2464 2611 \r\nQ 2184 2928 1769 2928 \r\nQ 1347 2928 1069 2612 \r\nQ 791 2297 791 1659 \r\nz\r\n\" id=\"ArialMT-6f\" transform=\"scale(0.015625)\"/>\r\n       <path d=\"M 409 0 \r\nL 409 4581 \r\nL 972 4581 \r\nL 972 0 \r\nL 409 0 \r\nz\r\n\" id=\"ArialMT-6c\" transform=\"scale(0.015625)\"/>\r\n       <path d=\"M 2588 409 \r\nQ 2275 144 1986 34 \r\nQ 1697 -75 1366 -75 \r\nQ 819 -75 525 192 \r\nQ 231 459 231 875 \r\nQ 231 1119 342 1320 \r\nQ 453 1522 633 1644 \r\nQ 813 1766 1038 1828 \r\nQ 1203 1872 1538 1913 \r\nQ 2219 1994 2541 2106 \r\nQ 2544 2222 2544 2253 \r\nQ 2544 2597 2384 2738 \r\nQ 2169 2928 1744 2928 \r\nQ 1347 2928 1158 2789 \r\nQ 969 2650 878 2297 \r\nL 328 2372 \r\nQ 403 2725 575 2942 \r\nQ 747 3159 1072 3276 \r\nQ 1397 3394 1825 3394 \r\nQ 2250 3394 2515 3294 \r\nQ 2781 3194 2906 3042 \r\nQ 3031 2891 3081 2659 \r\nQ 3109 2516 3109 2141 \r\nL 3109 1391 \r\nQ 3109 606 3145 398 \r\nQ 3181 191 3288 0 \r\nL 2700 0 \r\nQ 2613 175 2588 409 \r\nz\r\nM 2541 1666 \r\nQ 2234 1541 1622 1453 \r\nQ 1275 1403 1131 1340 \r\nQ 988 1278 909 1158 \r\nQ 831 1038 831 891 \r\nQ 831 666 1001 516 \r\nQ 1172 366 1500 366 \r\nQ 1825 366 2078 508 \r\nQ 2331 650 2450 897 \r\nQ 2541 1088 2541 1459 \r\nL 2541 1666 \r\nz\r\n\" id=\"ArialMT-61\" transform=\"scale(0.015625)\"/>\r\n       <path d=\"M 1650 503 \r\nL 1731 6 \r\nQ 1494 -44 1306 -44 \r\nQ 1000 -44 831 53 \r\nQ 663 150 594 308 \r\nQ 525 466 525 972 \r\nL 525 2881 \r\nL 113 2881 \r\nL 113 3319 \r\nL 525 3319 \r\nL 525 4141 \r\nL 1084 4478 \r\nL 1084 3319 \r\nL 1650 3319 \r\nL 1650 2881 \r\nL 1084 2881 \r\nL 1084 941 \r\nQ 1084 700 1114 631 \r\nQ 1144 563 1211 522 \r\nQ 1278 481 1403 481 \r\nQ 1497 481 1650 503 \r\nz\r\n\" id=\"ArialMT-74\" transform=\"scale(0.015625)\"/>\r\n       <path d=\"M 425 3934 \r\nL 425 4581 \r\nL 988 4581 \r\nL 988 3934 \r\nL 425 3934 \r\nz\r\nM 425 0 \r\nL 425 3319 \r\nL 988 3319 \r\nL 988 0 \r\nL 425 0 \r\nz\r\n\" id=\"ArialMT-69\" transform=\"scale(0.015625)\"/>\r\n       <path d=\"M 397 -1278 \r\nL 334 -750 \r\nQ 519 -800 656 -800 \r\nQ 844 -800 956 -737 \r\nQ 1069 -675 1141 -563 \r\nQ 1194 -478 1313 -144 \r\nQ 1328 -97 1363 -6 \r\nL 103 3319 \r\nL 709 3319 \r\nL 1400 1397 \r\nQ 1534 1031 1641 628 \r\nQ 1738 1016 1872 1384 \r\nL 2581 3319 \r\nL 3144 3319 \r\nL 1881 -56 \r\nQ 1678 -603 1566 -809 \r\nQ 1416 -1088 1222 -1217 \r\nQ 1028 -1347 759 -1347 \r\nQ 597 -1347 397 -1278 \r\nz\r\n\" id=\"ArialMT-79\" transform=\"scale(0.015625)\"/>\r\n       <path id=\"ArialMT-20\" transform=\"scale(0.015625)\"/>\r\n       <path d=\"M 1497 -1347 \r\nQ 1031 -759 709 28 \r\nQ 388 816 388 1659 \r\nQ 388 2403 628 3084 \r\nQ 909 3875 1497 4659 \r\nL 1900 4659 \r\nQ 1522 4009 1400 3731 \r\nQ 1209 3300 1100 2831 \r\nQ 966 2247 966 1656 \r\nQ 966 153 1900 -1347 \r\nL 1497 -1347 \r\nz\r\n\" id=\"ArialMT-28\" transform=\"scale(0.015625)\"/>\r\n       <path d=\"M 288 1472 \r\nL 859 1522 \r\nQ 900 1178 1048 958 \r\nQ 1197 738 1509 602 \r\nQ 1822 466 2213 466 \r\nQ 2559 466 2825 569 \r\nQ 3091 672 3220 851 \r\nQ 3350 1031 3350 1244 \r\nQ 3350 1459 3225 1620 \r\nQ 3100 1781 2813 1891 \r\nQ 2628 1963 1997 2114 \r\nQ 1366 2266 1113 2400 \r\nQ 784 2572 623 2826 \r\nQ 463 3081 463 3397 \r\nQ 463 3744 659 4045 \r\nQ 856 4347 1234 4503 \r\nQ 1613 4659 2075 4659 \r\nQ 2584 4659 2973 4495 \r\nQ 3363 4331 3572 4012 \r\nQ 3781 3694 3797 3291 \r\nL 3216 3247 \r\nQ 3169 3681 2898 3903 \r\nQ 2628 4125 2100 4125 \r\nQ 1550 4125 1298 3923 \r\nQ 1047 3722 1047 3438 \r\nQ 1047 3191 1225 3031 \r\nQ 1400 2872 2139 2705 \r\nQ 2878 2538 3153 2413 \r\nQ 3553 2228 3743 1945 \r\nQ 3934 1663 3934 1294 \r\nQ 3934 928 3725 604 \r\nQ 3516 281 3123 101 \r\nQ 2731 -78 2241 -78 \r\nQ 1619 -78 1198 103 \r\nQ 778 284 539 648 \r\nQ 300 1013 288 1472 \r\nz\r\n\" id=\"ArialMT-53\" transform=\"scale(0.015625)\"/>\r\n       <path d=\"M 2575 0 \r\nL 2575 419 \r\nQ 2259 -75 1647 -75 \r\nQ 1250 -75 917 144 \r\nQ 584 363 401 755 \r\nQ 219 1147 219 1656 \r\nQ 219 2153 384 2558 \r\nQ 550 2963 881 3178 \r\nQ 1213 3394 1622 3394 \r\nQ 1922 3394 2156 3267 \r\nQ 2391 3141 2538 2938 \r\nL 2538 4581 \r\nL 3097 4581 \r\nL 3097 0 \r\nL 2575 0 \r\nz\r\nM 797 1656 \r\nQ 797 1019 1065 703 \r\nQ 1334 388 1700 388 \r\nQ 2069 388 2326 689 \r\nQ 2584 991 2584 1609 \r\nQ 2584 2291 2321 2609 \r\nQ 2059 2928 1675 2928 \r\nQ 1300 2928 1048 2622 \r\nQ 797 2316 797 1656 \r\nz\r\n\" id=\"ArialMT-64\" transform=\"scale(0.015625)\"/>\r\n       <path d=\"M 494 0 \r\nL 494 4581 \r\nL 2072 4581 \r\nQ 2606 4581 2888 4516 \r\nQ 3281 4425 3559 4188 \r\nQ 3922 3881 4101 3404 \r\nQ 4281 2928 4281 2316 \r\nQ 4281 1794 4159 1391 \r\nQ 4038 988 3847 723 \r\nQ 3656 459 3429 307 \r\nQ 3203 156 2883 78 \r\nQ 2563 0 2147 0 \r\nL 494 0 \r\nz\r\nM 1100 541 \r\nL 2078 541 \r\nQ 2531 541 2789 625 \r\nQ 3047 709 3200 863 \r\nQ 3416 1078 3536 1442 \r\nQ 3656 1806 3656 2325 \r\nQ 3656 3044 3420 3430 \r\nQ 3184 3816 2847 3947 \r\nQ 2603 4041 2063 4041 \r\nL 1100 4041 \r\nL 1100 541 \r\nz\r\n\" id=\"ArialMT-44\" transform=\"scale(0.015625)\"/>\r\n       <path d=\"M 2694 1069 \r\nL 3275 997 \r\nQ 3138 488 2766 206 \r\nQ 2394 -75 1816 -75 \r\nQ 1088 -75 661 373 \r\nQ 234 822 234 1631 \r\nQ 234 2469 665 2931 \r\nQ 1097 3394 1784 3394 \r\nQ 2450 3394 2872 2941 \r\nQ 3294 2488 3294 1666 \r\nQ 3294 1616 3291 1516 \r\nL 816 1516 \r\nQ 847 969 1125 678 \r\nQ 1403 388 1819 388 \r\nQ 2128 388 2347 550 \r\nQ 2566 713 2694 1069 \r\nz\r\nM 847 1978 \r\nL 2700 1978 \r\nQ 2663 2397 2488 2606 \r\nQ 2219 2931 1791 2931 \r\nQ 1403 2931 1139 2672 \r\nQ 875 2413 847 1978 \r\nz\r\n\" id=\"ArialMT-65\" transform=\"scale(0.015625)\"/>\r\n       <path d=\"M 1344 0 \r\nL 81 3319 \r\nL 675 3319 \r\nL 1388 1331 \r\nQ 1503 1009 1600 663 \r\nQ 1675 925 1809 1294 \r\nL 2547 3319 \r\nL 3125 3319 \r\nL 1869 0 \r\nL 1344 0 \r\nz\r\n\" id=\"ArialMT-76\" transform=\"scale(0.015625)\"/>\r\n       <path d=\"M 422 0 \r\nL 422 3319 \r\nL 928 3319 \r\nL 928 2847 \r\nQ 1294 3394 1984 3394 \r\nQ 2284 3394 2536 3286 \r\nQ 2788 3178 2913 3003 \r\nQ 3038 2828 3088 2588 \r\nQ 3119 2431 3119 2041 \r\nL 3119 0 \r\nL 2556 0 \r\nL 2556 2019 \r\nQ 2556 2363 2490 2533 \r\nQ 2425 2703 2258 2804 \r\nQ 2091 2906 1866 2906 \r\nQ 1506 2906 1245 2678 \r\nQ 984 2450 984 1813 \r\nL 984 0 \r\nL 422 0 \r\nz\r\n\" id=\"ArialMT-6e\" transform=\"scale(0.015625)\"/>\r\n       <path d=\"M 791 -1347 \r\nL 388 -1347 \r\nQ 1322 153 1322 1656 \r\nQ 1322 2244 1188 2822 \r\nQ 1081 3291 891 3722 \r\nQ 769 4003 388 4659 \r\nL 791 4659 \r\nQ 1378 3875 1659 3084 \r\nQ 1900 2403 1900 1659 \r\nQ 1900 816 1576 28 \r\nQ 1253 -759 791 -1347 \r\nz\r\n\" id=\"ArialMT-29\" transform=\"scale(0.015625)\"/>\r\n      </defs>\r\n      <use xlink:href=\"#ArialMT-56\"/>\r\n      <use x=\"61.199219\" xlink:href=\"#ArialMT-6f\"/>\r\n      <use x=\"116.814453\" xlink:href=\"#ArialMT-6c\"/>\r\n      <use x=\"139.03125\" xlink:href=\"#ArialMT-61\"/>\r\n      <use x=\"194.646484\" xlink:href=\"#ArialMT-74\"/>\r\n      <use x=\"222.429688\" xlink:href=\"#ArialMT-69\"/>\r\n      <use x=\"244.646484\" xlink:href=\"#ArialMT-6c\"/>\r\n      <use x=\"266.863281\" xlink:href=\"#ArialMT-69\"/>\r\n      <use x=\"289.080078\" xlink:href=\"#ArialMT-74\"/>\r\n      <use x=\"316.863281\" xlink:href=\"#ArialMT-79\"/>\r\n      <use x=\"366.863281\" xlink:href=\"#ArialMT-20\"/>\r\n      <use x=\"394.646484\" xlink:href=\"#ArialMT-28\"/>\r\n      <use x=\"427.947266\" xlink:href=\"#ArialMT-53\"/>\r\n      <use x=\"494.646484\" xlink:href=\"#ArialMT-74\"/>\r\n      <use x=\"522.429688\" xlink:href=\"#ArialMT-64\"/>\r\n      <use x=\"578.044922\" xlink:href=\"#ArialMT-2e\"/>\r\n      <use x=\"605.828125\" xlink:href=\"#ArialMT-20\"/>\r\n      <use x=\"633.611328\" xlink:href=\"#ArialMT-44\"/>\r\n      <use x=\"705.828125\" xlink:href=\"#ArialMT-65\"/>\r\n      <use x=\"761.443359\" xlink:href=\"#ArialMT-76\"/>\r\n      <use x=\"811.443359\" xlink:href=\"#ArialMT-69\"/>\r\n      <use x=\"833.660156\" xlink:href=\"#ArialMT-61\"/>\r\n      <use x=\"889.275391\" xlink:href=\"#ArialMT-74\"/>\r\n      <use x=\"917.058594\" xlink:href=\"#ArialMT-69\"/>\r\n      <use x=\"939.275391\" xlink:href=\"#ArialMT-6f\"/>\r\n      <use x=\"994.890625\" xlink:href=\"#ArialMT-6e\"/>\r\n      <use x=\"1050.505859\" xlink:href=\"#ArialMT-29\"/>\r\n     </g>\r\n    </g>\r\n   </g>\r\n   <g id=\"matplotlib.axis_2\">\r\n    <g id=\"ytick_1\">\r\n     <g id=\"line2d_19\">\r\n      <path clip-path=\"url(#pf4309439bc)\" d=\"M 53.281719 436.902102 \r\nL 611.281719 436.902102 \r\n\" style=\"fill:none;stroke:#ffffff;stroke-linecap:round;\"/>\r\n     </g>\r\n     <g id=\"line2d_20\"/>\r\n     <g id=\"text_11\">\r\n      <!-- 0.002 -->\r\n      <g style=\"fill:#262626;\" transform=\"translate(21.259844 440.481009)scale(0.1 -0.1)\">\r\n       <use xlink:href=\"#ArialMT-30\"/>\r\n       <use x=\"55.615234\" xlink:href=\"#ArialMT-2e\"/>\r\n       <use x=\"83.398438\" xlink:href=\"#ArialMT-30\"/>\r\n       <use x=\"139.013672\" xlink:href=\"#ArialMT-30\"/>\r\n       <use x=\"194.628906\" xlink:href=\"#ArialMT-32\"/>\r\n      </g>\r\n     </g>\r\n    </g>\r\n    <g id=\"ytick_2\">\r\n     <g id=\"line2d_21\">\r\n      <path clip-path=\"url(#pf4309439bc)\" d=\"M 53.281719 364.361652 \r\nL 611.281719 364.361652 \r\n\" style=\"fill:none;stroke:#ffffff;stroke-linecap:round;\"/>\r\n     </g>\r\n     <g id=\"line2d_22\"/>\r\n     <g id=\"text_12\">\r\n      <!-- 0.004 -->\r\n      <g style=\"fill:#262626;\" transform=\"translate(21.259844 367.940558)scale(0.1 -0.1)\">\r\n       <use xlink:href=\"#ArialMT-30\"/>\r\n       <use x=\"55.615234\" xlink:href=\"#ArialMT-2e\"/>\r\n       <use x=\"83.398438\" xlink:href=\"#ArialMT-30\"/>\r\n       <use x=\"139.013672\" xlink:href=\"#ArialMT-30\"/>\r\n       <use x=\"194.628906\" xlink:href=\"#ArialMT-34\"/>\r\n      </g>\r\n     </g>\r\n    </g>\r\n    <g id=\"ytick_3\">\r\n     <g id=\"line2d_23\">\r\n      <path clip-path=\"url(#pf4309439bc)\" d=\"M 53.281719 291.821202 \r\nL 611.281719 291.821202 \r\n\" style=\"fill:none;stroke:#ffffff;stroke-linecap:round;\"/>\r\n     </g>\r\n     <g id=\"line2d_24\"/>\r\n     <g id=\"text_13\">\r\n      <!-- 0.006 -->\r\n      <g style=\"fill:#262626;\" transform=\"translate(21.259844 295.400108)scale(0.1 -0.1)\">\r\n       <defs>\r\n        <path d=\"M 3184 3459 \r\nL 2625 3416 \r\nQ 2550 3747 2413 3897 \r\nQ 2184 4138 1850 4138 \r\nQ 1581 4138 1378 3988 \r\nQ 1113 3794 959 3422 \r\nQ 806 3050 800 2363 \r\nQ 1003 2672 1297 2822 \r\nQ 1591 2972 1913 2972 \r\nQ 2475 2972 2870 2558 \r\nQ 3266 2144 3266 1488 \r\nQ 3266 1056 3080 686 \r\nQ 2894 316 2569 119 \r\nQ 2244 -78 1831 -78 \r\nQ 1128 -78 684 439 \r\nQ 241 956 241 2144 \r\nQ 241 3472 731 4075 \r\nQ 1159 4600 1884 4600 \r\nQ 2425 4600 2770 4297 \r\nQ 3116 3994 3184 3459 \r\nz\r\nM 888 1484 \r\nQ 888 1194 1011 928 \r\nQ 1134 663 1356 523 \r\nQ 1578 384 1822 384 \r\nQ 2178 384 2434 671 \r\nQ 2691 959 2691 1453 \r\nQ 2691 1928 2437 2201 \r\nQ 2184 2475 1800 2475 \r\nQ 1419 2475 1153 2201 \r\nQ 888 1928 888 1484 \r\nz\r\n\" id=\"ArialMT-36\" transform=\"scale(0.015625)\"/>\r\n       </defs>\r\n       <use xlink:href=\"#ArialMT-30\"/>\r\n       <use x=\"55.615234\" xlink:href=\"#ArialMT-2e\"/>\r\n       <use x=\"83.398438\" xlink:href=\"#ArialMT-30\"/>\r\n       <use x=\"139.013672\" xlink:href=\"#ArialMT-30\"/>\r\n       <use x=\"194.628906\" xlink:href=\"#ArialMT-36\"/>\r\n      </g>\r\n     </g>\r\n    </g>\r\n    <g id=\"ytick_4\">\r\n     <g id=\"line2d_25\">\r\n      <path clip-path=\"url(#pf4309439bc)\" d=\"M 53.281719 219.280751 \r\nL 611.281719 219.280751 \r\n\" style=\"fill:none;stroke:#ffffff;stroke-linecap:round;\"/>\r\n     </g>\r\n     <g id=\"line2d_26\"/>\r\n     <g id=\"text_14\">\r\n      <!-- 0.008 -->\r\n      <g style=\"fill:#262626;\" transform=\"translate(21.259844 222.859657)scale(0.1 -0.1)\">\r\n       <defs>\r\n        <path d=\"M 1131 2484 \r\nQ 781 2613 612 2850 \r\nQ 444 3088 444 3419 \r\nQ 444 3919 803 4259 \r\nQ 1163 4600 1759 4600 \r\nQ 2359 4600 2725 4251 \r\nQ 3091 3903 3091 3403 \r\nQ 3091 3084 2923 2848 \r\nQ 2756 2613 2416 2484 \r\nQ 2838 2347 3058 2040 \r\nQ 3278 1734 3278 1309 \r\nQ 3278 722 2862 322 \r\nQ 2447 -78 1769 -78 \r\nQ 1091 -78 675 323 \r\nQ 259 725 259 1325 \r\nQ 259 1772 486 2073 \r\nQ 713 2375 1131 2484 \r\nz\r\nM 1019 3438 \r\nQ 1019 3113 1228 2906 \r\nQ 1438 2700 1772 2700 \r\nQ 2097 2700 2305 2904 \r\nQ 2513 3109 2513 3406 \r\nQ 2513 3716 2298 3927 \r\nQ 2084 4138 1766 4138 \r\nQ 1444 4138 1231 3931 \r\nQ 1019 3725 1019 3438 \r\nz\r\nM 838 1322 \r\nQ 838 1081 952 856 \r\nQ 1066 631 1291 507 \r\nQ 1516 384 1775 384 \r\nQ 2178 384 2440 643 \r\nQ 2703 903 2703 1303 \r\nQ 2703 1709 2433 1975 \r\nQ 2163 2241 1756 2241 \r\nQ 1359 2241 1098 1978 \r\nQ 838 1716 838 1322 \r\nz\r\n\" id=\"ArialMT-38\" transform=\"scale(0.015625)\"/>\r\n       </defs>\r\n       <use xlink:href=\"#ArialMT-30\"/>\r\n       <use x=\"55.615234\" xlink:href=\"#ArialMT-2e\"/>\r\n       <use x=\"83.398438\" xlink:href=\"#ArialMT-30\"/>\r\n       <use x=\"139.013672\" xlink:href=\"#ArialMT-30\"/>\r\n       <use x=\"194.628906\" xlink:href=\"#ArialMT-38\"/>\r\n      </g>\r\n     </g>\r\n    </g>\r\n    <g id=\"ytick_5\">\r\n     <g id=\"line2d_27\">\r\n      <path clip-path=\"url(#pf4309439bc)\" d=\"M 53.281719 146.740301 \r\nL 611.281719 146.740301 \r\n\" style=\"fill:none;stroke:#ffffff;stroke-linecap:round;\"/>\r\n     </g>\r\n     <g id=\"line2d_28\"/>\r\n     <g id=\"text_15\">\r\n      <!-- 0.010 -->\r\n      <g style=\"fill:#262626;\" transform=\"translate(21.259844 150.319207)scale(0.1 -0.1)\">\r\n       <defs>\r\n        <path d=\"M 2384 0 \r\nL 1822 0 \r\nL 1822 3584 \r\nQ 1619 3391 1289 3197 \r\nQ 959 3003 697 2906 \r\nL 697 3450 \r\nQ 1169 3672 1522 3987 \r\nQ 1875 4303 2022 4600 \r\nL 2384 4600 \r\nL 2384 0 \r\nz\r\n\" id=\"ArialMT-31\" transform=\"scale(0.015625)\"/>\r\n       </defs>\r\n       <use xlink:href=\"#ArialMT-30\"/>\r\n       <use x=\"55.615234\" xlink:href=\"#ArialMT-2e\"/>\r\n       <use x=\"83.398438\" xlink:href=\"#ArialMT-30\"/>\r\n       <use x=\"139.013672\" xlink:href=\"#ArialMT-31\"/>\r\n       <use x=\"194.628906\" xlink:href=\"#ArialMT-30\"/>\r\n      </g>\r\n     </g>\r\n    </g>\r\n    <g id=\"ytick_6\">\r\n     <g id=\"line2d_29\">\r\n      <path clip-path=\"url(#pf4309439bc)\" d=\"M 53.281719 74.19985 \r\nL 611.281719 74.19985 \r\n\" style=\"fill:none;stroke:#ffffff;stroke-linecap:round;\"/>\r\n     </g>\r\n     <g id=\"line2d_30\"/>\r\n     <g id=\"text_16\">\r\n      <!-- 0.012 -->\r\n      <g style=\"fill:#262626;\" transform=\"translate(21.259844 77.778757)scale(0.1 -0.1)\">\r\n       <use xlink:href=\"#ArialMT-30\"/>\r\n       <use x=\"55.615234\" xlink:href=\"#ArialMT-2e\"/>\r\n       <use x=\"83.398438\" xlink:href=\"#ArialMT-30\"/>\r\n       <use x=\"139.013672\" xlink:href=\"#ArialMT-31\"/>\r\n       <use x=\"194.628906\" xlink:href=\"#ArialMT-32\"/>\r\n      </g>\r\n     </g>\r\n    </g>\r\n    <g id=\"text_17\">\r\n     <!-- Expected Returns -->\r\n     <g style=\"fill:#262626;\" transform=\"translate(15.073594 282.944922)rotate(-90)scale(0.11 -0.11)\">\r\n      <defs>\r\n       <path d=\"M 506 0 \r\nL 506 4581 \r\nL 3819 4581 \r\nL 3819 4041 \r\nL 1113 4041 \r\nL 1113 2638 \r\nL 3647 2638 \r\nL 3647 2100 \r\nL 1113 2100 \r\nL 1113 541 \r\nL 3925 541 \r\nL 3925 0 \r\nL 506 0 \r\nz\r\n\" id=\"ArialMT-45\" transform=\"scale(0.015625)\"/>\r\n       <path d=\"M 47 0 \r\nL 1259 1725 \r\nL 138 3319 \r\nL 841 3319 \r\nL 1350 2541 \r\nQ 1494 2319 1581 2169 \r\nQ 1719 2375 1834 2534 \r\nL 2394 3319 \r\nL 3066 3319 \r\nL 1919 1756 \r\nL 3153 0 \r\nL 2463 0 \r\nL 1781 1031 \r\nL 1600 1309 \r\nL 728 0 \r\nL 47 0 \r\nz\r\n\" id=\"ArialMT-78\" transform=\"scale(0.015625)\"/>\r\n       <path d=\"M 422 -1272 \r\nL 422 3319 \r\nL 934 3319 \r\nL 934 2888 \r\nQ 1116 3141 1344 3267 \r\nQ 1572 3394 1897 3394 \r\nQ 2322 3394 2647 3175 \r\nQ 2972 2956 3137 2557 \r\nQ 3303 2159 3303 1684 \r\nQ 3303 1175 3120 767 \r\nQ 2938 359 2589 142 \r\nQ 2241 -75 1856 -75 \r\nQ 1575 -75 1351 44 \r\nQ 1128 163 984 344 \r\nL 984 -1272 \r\nL 422 -1272 \r\nz\r\nM 931 1641 \r\nQ 931 1000 1190 694 \r\nQ 1450 388 1819 388 \r\nQ 2194 388 2461 705 \r\nQ 2728 1022 2728 1688 \r\nQ 2728 2322 2467 2637 \r\nQ 2206 2953 1844 2953 \r\nQ 1484 2953 1207 2617 \r\nQ 931 2281 931 1641 \r\nz\r\n\" id=\"ArialMT-70\" transform=\"scale(0.015625)\"/>\r\n       <path d=\"M 2588 1216 \r\nL 3141 1144 \r\nQ 3050 572 2676 248 \r\nQ 2303 -75 1759 -75 \r\nQ 1078 -75 664 370 \r\nQ 250 816 250 1647 \r\nQ 250 2184 428 2587 \r\nQ 606 2991 970 3192 \r\nQ 1334 3394 1763 3394 \r\nQ 2303 3394 2647 3120 \r\nQ 2991 2847 3088 2344 \r\nL 2541 2259 \r\nQ 2463 2594 2264 2762 \r\nQ 2066 2931 1784 2931 \r\nQ 1359 2931 1093 2626 \r\nQ 828 2322 828 1663 \r\nQ 828 994 1084 691 \r\nQ 1341 388 1753 388 \r\nQ 2084 388 2306 591 \r\nQ 2528 794 2588 1216 \r\nz\r\n\" id=\"ArialMT-63\" transform=\"scale(0.015625)\"/>\r\n       <path d=\"M 503 0 \r\nL 503 4581 \r\nL 2534 4581 \r\nQ 3147 4581 3465 4457 \r\nQ 3784 4334 3975 4021 \r\nQ 4166 3709 4166 3331 \r\nQ 4166 2844 3850 2509 \r\nQ 3534 2175 2875 2084 \r\nQ 3116 1969 3241 1856 \r\nQ 3506 1613 3744 1247 \r\nL 4541 0 \r\nL 3778 0 \r\nL 3172 953 \r\nQ 2906 1366 2734 1584 \r\nQ 2563 1803 2427 1890 \r\nQ 2291 1978 2150 2013 \r\nQ 2047 2034 1813 2034 \r\nL 1109 2034 \r\nL 1109 0 \r\nL 503 0 \r\nz\r\nM 1109 2559 \r\nL 2413 2559 \r\nQ 2828 2559 3062 2645 \r\nQ 3297 2731 3419 2920 \r\nQ 3541 3109 3541 3331 \r\nQ 3541 3656 3305 3865 \r\nQ 3069 4075 2559 4075 \r\nL 1109 4075 \r\nL 1109 2559 \r\nz\r\n\" id=\"ArialMT-52\" transform=\"scale(0.015625)\"/>\r\n       <path d=\"M 2597 0 \r\nL 2597 488 \r\nQ 2209 -75 1544 -75 \r\nQ 1250 -75 995 37 \r\nQ 741 150 617 320 \r\nQ 494 491 444 738 \r\nQ 409 903 409 1263 \r\nL 409 3319 \r\nL 972 3319 \r\nL 972 1478 \r\nQ 972 1038 1006 884 \r\nQ 1059 663 1231 536 \r\nQ 1403 409 1656 409 \r\nQ 1909 409 2131 539 \r\nQ 2353 669 2445 892 \r\nQ 2538 1116 2538 1541 \r\nL 2538 3319 \r\nL 3100 3319 \r\nL 3100 0 \r\nL 2597 0 \r\nz\r\n\" id=\"ArialMT-75\" transform=\"scale(0.015625)\"/>\r\n       <path d=\"M 416 0 \r\nL 416 3319 \r\nL 922 3319 \r\nL 922 2816 \r\nQ 1116 3169 1280 3281 \r\nQ 1444 3394 1641 3394 \r\nQ 1925 3394 2219 3213 \r\nL 2025 2691 \r\nQ 1819 2813 1613 2813 \r\nQ 1428 2813 1281 2702 \r\nQ 1134 2591 1072 2394 \r\nQ 978 2094 978 1738 \r\nL 978 0 \r\nL 416 0 \r\nz\r\n\" id=\"ArialMT-72\" transform=\"scale(0.015625)\"/>\r\n       <path d=\"M 197 991 \r\nL 753 1078 \r\nQ 800 744 1014 566 \r\nQ 1228 388 1613 388 \r\nQ 2000 388 2187 545 \r\nQ 2375 703 2375 916 \r\nQ 2375 1106 2209 1216 \r\nQ 2094 1291 1634 1406 \r\nQ 1016 1563 777 1677 \r\nQ 538 1791 414 1992 \r\nQ 291 2194 291 2438 \r\nQ 291 2659 392 2848 \r\nQ 494 3038 669 3163 \r\nQ 800 3259 1026 3326 \r\nQ 1253 3394 1513 3394 \r\nQ 1903 3394 2198 3281 \r\nQ 2494 3169 2634 2976 \r\nQ 2775 2784 2828 2463 \r\nL 2278 2388 \r\nQ 2241 2644 2061 2787 \r\nQ 1881 2931 1553 2931 \r\nQ 1166 2931 1000 2803 \r\nQ 834 2675 834 2503 \r\nQ 834 2394 903 2306 \r\nQ 972 2216 1119 2156 \r\nQ 1203 2125 1616 2013 \r\nQ 2213 1853 2448 1751 \r\nQ 2684 1650 2818 1456 \r\nQ 2953 1263 2953 975 \r\nQ 2953 694 2789 445 \r\nQ 2625 197 2315 61 \r\nQ 2006 -75 1616 -75 \r\nQ 969 -75 630 194 \r\nQ 291 463 197 991 \r\nz\r\n\" id=\"ArialMT-73\" transform=\"scale(0.015625)\"/>\r\n      </defs>\r\n      <use xlink:href=\"#ArialMT-45\"/>\r\n      <use x=\"66.699219\" xlink:href=\"#ArialMT-78\"/>\r\n      <use x=\"116.699219\" xlink:href=\"#ArialMT-70\"/>\r\n      <use x=\"172.314453\" xlink:href=\"#ArialMT-65\"/>\r\n      <use x=\"227.929688\" xlink:href=\"#ArialMT-63\"/>\r\n      <use x=\"277.929688\" xlink:href=\"#ArialMT-74\"/>\r\n      <use x=\"305.712891\" xlink:href=\"#ArialMT-65\"/>\r\n      <use x=\"361.328125\" xlink:href=\"#ArialMT-64\"/>\r\n      <use x=\"416.943359\" xlink:href=\"#ArialMT-20\"/>\r\n      <use x=\"444.726562\" xlink:href=\"#ArialMT-52\"/>\r\n      <use x=\"516.943359\" xlink:href=\"#ArialMT-65\"/>\r\n      <use x=\"572.558594\" xlink:href=\"#ArialMT-74\"/>\r\n      <use x=\"600.341797\" xlink:href=\"#ArialMT-75\"/>\r\n      <use x=\"655.957031\" xlink:href=\"#ArialMT-72\"/>\r\n      <use x=\"689.257812\" xlink:href=\"#ArialMT-6e\"/>\r\n      <use x=\"744.873047\" xlink:href=\"#ArialMT-73\"/>\r\n     </g>\r\n    </g>\r\n   </g>\r\n   <g id=\"PathCollection_1\">\r\n    <defs>\r\n     <path d=\"M 0 2.236068 \r\nC 0.593012 2.236068 1.161816 2.000462 1.581139 1.581139 \r\nC 2.000462 1.161816 2.236068 0.593012 2.236068 0 \r\nC 2.236068 -0.593012 2.000462 -1.161816 1.581139 -1.581139 \r\nC 1.161816 -2.000462 0.593012 -2.236068 0 -2.236068 \r\nC -0.593012 -2.236068 -1.161816 -2.000462 -1.581139 -1.581139 \r\nC -2.000462 -1.161816 -2.236068 -0.593012 -2.236068 0 \r\nC -2.236068 0.593012 -2.000462 1.161816 -1.581139 1.581139 \r\nC -1.161816 2.000462 -0.593012 2.236068 0 2.236068 \r\nz\r\n\" id=\"m5e52420b9b\" style=\"stroke:#4c72b0;stroke-width:0.3;\"/>\r\n    </defs>\r\n    <g clip-path=\"url(#pf4309439bc)\">\r\n     <use style=\"fill:#4c72b0;stroke:#4c72b0;stroke-width:0.3;\" x=\"585.918082\" xlink:href=\"#m5e52420b9b\" y=\"436.902102\"/>\r\n     <use style=\"fill:#4c72b0;stroke:#4c72b0;stroke-width:0.3;\" x=\"556.950848\" xlink:href=\"#m5e52420b9b\" y=\"433.27508\"/>\r\n     <use style=\"fill:#4c72b0;stroke:#4c72b0;stroke-width:0.3;\" x=\"537.810574\" xlink:href=\"#m5e52420b9b\" y=\"429.648057\"/>\r\n     <use style=\"fill:#4c72b0;stroke:#4c72b0;stroke-width:0.3;\" x=\"509.37761\" xlink:href=\"#m5e52420b9b\" y=\"426.021035\"/>\r\n     <use style=\"fill:#4c72b0;stroke:#4c72b0;stroke-width:0.3;\" x=\"481.304834\" xlink:href=\"#m5e52420b9b\" y=\"422.394012\"/>\r\n     <use style=\"fill:#4c72b0;stroke:#4c72b0;stroke-width:0.3;\" x=\"462.806289\" xlink:href=\"#m5e52420b9b\" y=\"418.76699\"/>\r\n     <use style=\"fill:#4c72b0;stroke:#4c72b0;stroke-width:0.3;\" x=\"435.410772\" xlink:href=\"#m5e52420b9b\" y=\"415.139967\"/>\r\n     <use style=\"fill:#4c72b0;stroke:#4c72b0;stroke-width:0.3;\" x=\"408.474193\" xlink:href=\"#m5e52420b9b\" y=\"411.512945\"/>\r\n     <use style=\"fill:#4c72b0;stroke:#4c72b0;stroke-width:0.3;\" x=\"390.793408\" xlink:href=\"#m5e52420b9b\" y=\"407.885922\"/>\r\n     <use style=\"fill:#4c72b0;stroke:#4c72b0;stroke-width:0.3;\" x=\"364.723952\" xlink:href=\"#m5e52420b9b\" y=\"404.2589\"/>\r\n     <use style=\"fill:#4c72b0;stroke:#4c72b0;stroke-width:0.3;\" x=\"339.244589\" xlink:href=\"#m5e52420b9b\" y=\"400.631877\"/>\r\n     <use style=\"fill:#4c72b0;stroke:#4c72b0;stroke-width:0.3;\" x=\"314.414786\" xlink:href=\"#m5e52420b9b\" y=\"397.004855\"/>\r\n     <use style=\"fill:#4c72b0;stroke:#4c72b0;stroke-width:0.3;\" x=\"298.254708\" xlink:href=\"#m5e52420b9b\" y=\"393.377832\"/>\r\n     <use style=\"fill:#4c72b0;stroke:#4c72b0;stroke-width:0.3;\" x=\"274.657312\" xlink:href=\"#m5e52420b9b\" y=\"389.75081\"/>\r\n     <use style=\"fill:#4c72b0;stroke:#4c72b0;stroke-width:0.3;\" x=\"251.900727\" xlink:href=\"#m5e52420b9b\" y=\"386.123787\"/>\r\n     <use style=\"fill:#4c72b0;stroke:#4c72b0;stroke-width:0.3;\" x=\"237.238519\" xlink:href=\"#m5e52420b9b\" y=\"382.496764\"/>\r\n     <use style=\"fill:#4c72b0;stroke:#4c72b0;stroke-width:0.3;\" x=\"216.076295\" xlink:href=\"#m5e52420b9b\" y=\"378.869742\"/>\r\n     <use style=\"fill:#4c72b0;stroke:#4c72b0;stroke-width:0.3;\" x=\"195.99896\" xlink:href=\"#m5e52420b9b\" y=\"375.242719\"/>\r\n     <use style=\"fill:#4c72b0;stroke:#4c72b0;stroke-width:0.3;\" x=\"183.268455\" xlink:href=\"#m5e52420b9b\" y=\"371.615697\"/>\r\n     <use style=\"fill:#4c72b0;stroke:#4c72b0;stroke-width:0.3;\" x=\"165.236312\" xlink:href=\"#m5e52420b9b\" y=\"367.988674\"/>\r\n     <use style=\"fill:#4c72b0;stroke:#4c72b0;stroke-width:0.3;\" x=\"148.583456\" xlink:href=\"#m5e52420b9b\" y=\"364.361652\"/>\r\n     <use style=\"fill:#4c72b0;stroke:#4c72b0;stroke-width:0.3;\" x=\"138.306655\" xlink:href=\"#m5e52420b9b\" y=\"360.734629\"/>\r\n     <use style=\"fill:#4c72b0;stroke:#4c72b0;stroke-width:0.3;\" x=\"124.218637\" xlink:href=\"#m5e52420b9b\" y=\"357.107607\"/>\r\n     <use style=\"fill:#4c72b0;stroke:#4c72b0;stroke-width:0.3;\" x=\"111.82986\" xlink:href=\"#m5e52420b9b\" y=\"353.480584\"/>\r\n     <use style=\"fill:#4c72b0;stroke:#4c72b0;stroke-width:0.3;\" x=\"101.25614\" xlink:href=\"#m5e52420b9b\" y=\"349.853562\"/>\r\n     <use style=\"fill:#4c72b0;stroke:#4c72b0;stroke-width:0.3;\" x=\"95.268829\" xlink:href=\"#m5e52420b9b\" y=\"346.226539\"/>\r\n     <use style=\"fill:#4c72b0;stroke:#4c72b0;stroke-width:0.3;\" x=\"87.952315\" xlink:href=\"#m5e52420b9b\" y=\"342.599517\"/>\r\n     <use style=\"fill:#4c72b0;stroke:#4c72b0;stroke-width:0.3;\" x=\"82.705441\" xlink:href=\"#m5e52420b9b\" y=\"338.972494\"/>\r\n     <use style=\"fill:#4c72b0;stroke:#4c72b0;stroke-width:0.3;\" x=\"80.389007\" xlink:href=\"#m5e52420b9b\" y=\"335.345472\"/>\r\n     <use style=\"fill:#4c72b0;stroke:#4c72b0;stroke-width:0.3;\" x=\"78.717986\" xlink:href=\"#m5e52420b9b\" y=\"331.718449\"/>\r\n     <use style=\"fill:#4c72b0;stroke:#4c72b0;stroke-width:0.3;\" x=\"78.645355\" xlink:href=\"#m5e52420b9b\" y=\"328.091427\"/>\r\n     <use style=\"fill:#4c72b0;stroke:#4c72b0;stroke-width:0.3;\" x=\"79.881997\" xlink:href=\"#m5e52420b9b\" y=\"324.464404\"/>\r\n     <use style=\"fill:#4c72b0;stroke:#4c72b0;stroke-width:0.3;\" x=\"81.912001\" xlink:href=\"#m5e52420b9b\" y=\"320.837382\"/>\r\n     <use style=\"fill:#4c72b0;stroke:#4c72b0;stroke-width:0.3;\" x=\"84.236812\" xlink:href=\"#m5e52420b9b\" y=\"317.210359\"/>\r\n     <use style=\"fill:#4c72b0;stroke:#4c72b0;stroke-width:0.3;\" x=\"87.518963\" xlink:href=\"#m5e52420b9b\" y=\"313.583337\"/>\r\n     <use style=\"fill:#4c72b0;stroke:#4c72b0;stroke-width:0.3;\" x=\"89.925867\" xlink:href=\"#m5e52420b9b\" y=\"309.956314\"/>\r\n     <use style=\"fill:#4c72b0;stroke:#4c72b0;stroke-width:0.3;\" x=\"92.410827\" xlink:href=\"#m5e52420b9b\" y=\"306.329292\"/>\r\n     <use style=\"fill:#4c72b0;stroke:#4c72b0;stroke-width:0.3;\" x=\"95.652688\" xlink:href=\"#m5e52420b9b\" y=\"302.702269\"/>\r\n     <use style=\"fill:#4c72b0;stroke:#4c72b0;stroke-width:0.3;\" x=\"98.9374\" xlink:href=\"#m5e52420b9b\" y=\"299.075247\"/>\r\n     <use style=\"fill:#4c72b0;stroke:#4c72b0;stroke-width:0.3;\" x=\"101.675691\" xlink:href=\"#m5e52420b9b\" y=\"295.448224\"/>\r\n     <use style=\"fill:#4c72b0;stroke:#4c72b0;stroke-width:0.3;\" x=\"104.793301\" xlink:href=\"#m5e52420b9b\" y=\"291.821202\"/>\r\n     <use style=\"fill:#4c72b0;stroke:#4c72b0;stroke-width:0.3;\" x=\"108.898532\" xlink:href=\"#m5e52420b9b\" y=\"288.194179\"/>\r\n     <use style=\"fill:#4c72b0;stroke:#4c72b0;stroke-width:0.3;\" x=\"111.899075\" xlink:href=\"#m5e52420b9b\" y=\"284.567156\"/>\r\n     <use style=\"fill:#4c72b0;stroke:#4c72b0;stroke-width:0.3;\" x=\"114.968782\" xlink:href=\"#m5e52420b9b\" y=\"280.940134\"/>\r\n     <use style=\"fill:#4c72b0;stroke:#4c72b0;stroke-width:0.3;\" x=\"118.935158\" xlink:href=\"#m5e52420b9b\" y=\"277.313111\"/>\r\n     <use style=\"fill:#4c72b0;stroke:#4c72b0;stroke-width:0.3;\" x=\"122.831152\" xlink:href=\"#m5e52420b9b\" y=\"273.686089\"/>\r\n     <use style=\"fill:#4c72b0;stroke:#4c72b0;stroke-width:0.3;\" x=\"126.123736\" xlink:href=\"#m5e52420b9b\" y=\"270.059066\"/>\r\n     <use style=\"fill:#4c72b0;stroke:#4c72b0;stroke-width:0.3;\" x=\"129.946556\" xlink:href=\"#m5e52420b9b\" y=\"266.432044\"/>\r\n     <use style=\"fill:#4c72b0;stroke:#4c72b0;stroke-width:0.3;\" x=\"134.700525\" xlink:href=\"#m5e52420b9b\" y=\"262.805021\"/>\r\n     <use style=\"fill:#4c72b0;stroke:#4c72b0;stroke-width:0.3;\" x=\"138.201873\" xlink:href=\"#m5e52420b9b\" y=\"259.177999\"/>\r\n     <use style=\"fill:#4c72b0;stroke:#4c72b0;stroke-width:0.3;\" x=\"141.880771\" xlink:href=\"#m5e52420b9b\" y=\"255.550976\"/>\r\n     <use style=\"fill:#4c72b0;stroke:#4c72b0;stroke-width:0.3;\" x=\"146.480849\" xlink:href=\"#m5e52420b9b\" y=\"251.923954\"/>\r\n     <use style=\"fill:#4c72b0;stroke:#4c72b0;stroke-width:0.3;\" x=\"150.907369\" xlink:href=\"#m5e52420b9b\" y=\"248.296931\"/>\r\n     <use style=\"fill:#4c72b0;stroke:#4c72b0;stroke-width:0.3;\" x=\"154.682629\" xlink:href=\"#m5e52420b9b\" y=\"244.669909\"/>\r\n     <use style=\"fill:#4c72b0;stroke:#4c72b0;stroke-width:0.3;\" x=\"159.121821\" xlink:href=\"#m5e52420b9b\" y=\"241.042886\"/>\r\n     <use style=\"fill:#4c72b0;stroke:#4c72b0;stroke-width:0.3;\" x=\"164.342975\" xlink:href=\"#m5e52420b9b\" y=\"237.415864\"/>\r\n     <use style=\"fill:#4c72b0;stroke:#4c72b0;stroke-width:0.3;\" x=\"168.29772\" xlink:href=\"#m5e52420b9b\" y=\"233.788841\"/>\r\n     <use style=\"fill:#4c72b0;stroke:#4c72b0;stroke-width:0.3;\" x=\"172.577022\" xlink:href=\"#m5e52420b9b\" y=\"230.161819\"/>\r\n     <use style=\"fill:#4c72b0;stroke:#4c72b0;stroke-width:0.3;\" x=\"177.723459\" xlink:href=\"#m5e52420b9b\" y=\"226.534796\"/>\r\n     <use style=\"fill:#4c72b0;stroke:#4c72b0;stroke-width:0.3;\" x=\"182.604183\" xlink:href=\"#m5e52420b9b\" y=\"222.907774\"/>\r\n     <use style=\"fill:#4c72b0;stroke:#4c72b0;stroke-width:0.3;\" x=\"186.794359\" xlink:href=\"#m5e52420b9b\" y=\"219.280751\"/>\r\n     <use style=\"fill:#4c72b0;stroke:#4c72b0;stroke-width:0.3;\" x=\"191.765716\" xlink:href=\"#m5e52420b9b\" y=\"215.653729\"/>\r\n     <use style=\"fill:#4c72b0;stroke:#4c72b0;stroke-width:0.3;\" x=\"197.380464\" xlink:href=\"#m5e52420b9b\" y=\"212.026706\"/>\r\n     <use style=\"fill:#4c72b0;stroke:#4c72b0;stroke-width:0.3;\" x=\"201.723498\" xlink:href=\"#m5e52420b9b\" y=\"208.399684\"/>\r\n     <use style=\"fill:#4c72b0;stroke:#4c72b0;stroke-width:0.3;\" x=\"206.522135\" xlink:href=\"#m5e52420b9b\" y=\"204.772661\"/>\r\n     <use style=\"fill:#4c72b0;stroke:#4c72b0;stroke-width:0.3;\" x=\"212.135183\" xlink:href=\"#m5e52420b9b\" y=\"201.145639\"/>\r\n     <use style=\"fill:#4c72b0;stroke:#4c72b0;stroke-width:0.3;\" x=\"217.316244\" xlink:href=\"#m5e52420b9b\" y=\"197.518616\"/>\r\n     <use style=\"fill:#4c72b0;stroke:#4c72b0;stroke-width:0.3;\" x=\"221.945248\" xlink:href=\"#m5e52420b9b\" y=\"193.891594\"/>\r\n     <use style=\"fill:#4c72b0;stroke:#4c72b0;stroke-width:0.3;\" x=\"227.372545\" xlink:href=\"#m5e52420b9b\" y=\"190.264571\"/>\r\n     <use style=\"fill:#4c72b0;stroke:#4c72b0;stroke-width:0.3;\" x=\"233.316449\" xlink:href=\"#m5e52420b9b\" y=\"186.637548\"/>\r\n     <use style=\"fill:#4c72b0;stroke:#4c72b0;stroke-width:0.3;\" x=\"237.989834\" xlink:href=\"#m5e52420b9b\" y=\"183.010526\"/>\r\n     <use style=\"fill:#4c72b0;stroke:#4c72b0;stroke-width:0.3;\" x=\"243.234926\" xlink:href=\"#m5e52420b9b\" y=\"179.383503\"/>\r\n     <use style=\"fill:#4c72b0;stroke:#4c72b0;stroke-width:0.3;\" x=\"249.244318\" xlink:href=\"#m5e52420b9b\" y=\"175.756481\"/>\r\n     <use style=\"fill:#4c72b0;stroke:#4c72b0;stroke-width:0.3;\" x=\"254.05154\" xlink:href=\"#m5e52420b9b\" y=\"172.129458\"/>\r\n     <use style=\"fill:#4c72b0;stroke:#4c72b0;stroke-width:0.3;\" x=\"259.680066\" xlink:href=\"#m5e52420b9b\" y=\"168.502436\"/>\r\n     <use style=\"fill:#4c72b0;stroke:#4c72b0;stroke-width:0.3;\" x=\"265.496418\" xlink:href=\"#m5e52420b9b\" y=\"164.875413\"/>\r\n     <use style=\"fill:#4c72b0;stroke:#4c72b0;stroke-width:0.3;\" x=\"270.419106\" xlink:href=\"#m5e52420b9b\" y=\"161.248391\"/>\r\n     <use style=\"fill:#4c72b0;stroke:#4c72b0;stroke-width:0.3;\" x=\"276.668076\" xlink:href=\"#m5e52420b9b\" y=\"157.621368\"/>\r\n     <use style=\"fill:#4c72b0;stroke:#4c72b0;stroke-width:0.3;\" x=\"281.6535\" xlink:href=\"#m5e52420b9b\" y=\"153.994346\"/>\r\n     <use style=\"fill:#4c72b0;stroke:#4c72b0;stroke-width:0.3;\" x=\"287.325109\" xlink:href=\"#m5e52420b9b\" y=\"150.367323\"/>\r\n     <use style=\"fill:#4c72b0;stroke:#4c72b0;stroke-width:0.3;\" x=\"293.708593\" xlink:href=\"#m5e52420b9b\" y=\"146.740301\"/>\r\n     <use style=\"fill:#4c72b0;stroke:#4c72b0;stroke-width:0.3;\" x=\"299.245669\" xlink:href=\"#m5e52420b9b\" y=\"143.113278\"/>\r\n     <use style=\"fill:#4c72b0;stroke:#4c72b0;stroke-width:0.3;\" x=\"304.733083\" xlink:href=\"#m5e52420b9b\" y=\"139.486256\"/>\r\n     <use style=\"fill:#4c72b0;stroke:#4c72b0;stroke-width:0.3;\" x=\"310.918854\" xlink:href=\"#m5e52420b9b\" y=\"135.859233\"/>\r\n     <use style=\"fill:#4c72b0;stroke:#4c72b0;stroke-width:0.3;\" x=\"317.30041\" xlink:href=\"#m5e52420b9b\" y=\"132.232211\"/>\r\n     <use style=\"fill:#4c72b0;stroke:#4c72b0;stroke-width:0.3;\" x=\"322.608836\" xlink:href=\"#m5e52420b9b\" y=\"128.605188\"/>\r\n     <use style=\"fill:#4c72b0;stroke:#4c72b0;stroke-width:0.3;\" x=\"328.602126\" xlink:href=\"#m5e52420b9b\" y=\"124.978166\"/>\r\n     <use style=\"fill:#4c72b0;stroke:#4c72b0;stroke-width:0.3;\" x=\"335.264482\" xlink:href=\"#m5e52420b9b\" y=\"121.351143\"/>\r\n     <use style=\"fill:#4c72b0;stroke:#4c72b0;stroke-width:0.3;\" x=\"340.920414\" xlink:href=\"#m5e52420b9b\" y=\"117.724121\"/>\r\n     <use style=\"fill:#4c72b0;stroke:#4c72b0;stroke-width:0.3;\" x=\"346.726682\" xlink:href=\"#m5e52420b9b\" y=\"114.097098\"/>\r\n     <use style=\"fill:#4c72b0;stroke:#4c72b0;stroke-width:0.3;\" x=\"353.189731\" xlink:href=\"#m5e52420b9b\" y=\"110.470076\"/>\r\n     <use style=\"fill:#4c72b0;stroke:#4c72b0;stroke-width:0.3;\" x=\"359.638029\" xlink:href=\"#m5e52420b9b\" y=\"106.843053\"/>\r\n     <use style=\"fill:#4c72b0;stroke:#4c72b0;stroke-width:0.3;\" x=\"365.262876\" xlink:href=\"#m5e52420b9b\" y=\"103.216031\"/>\r\n     <use style=\"fill:#4c72b0;stroke:#4c72b0;stroke-width:0.3;\" x=\"371.532265\" xlink:href=\"#m5e52420b9b\" y=\"99.589008\"/>\r\n     <use style=\"fill:#4c72b0;stroke:#4c72b0;stroke-width:0.3;\" x=\"378.431459\" xlink:href=\"#m5e52420b9b\" y=\"95.961986\"/>\r\n     <use style=\"fill:#4c72b0;stroke:#4c72b0;stroke-width:0.3;\" x=\"384.183071\" xlink:href=\"#m5e52420b9b\" y=\"92.334963\"/>\r\n     <use style=\"fill:#4c72b0;stroke:#4c72b0;stroke-width:0.3;\" x=\"390.264564\" xlink:href=\"#m5e52420b9b\" y=\"88.70794\"/>\r\n     <use style=\"fill:#4c72b0;stroke:#4c72b0;stroke-width:0.3;\" x=\"396.964735\" xlink:href=\"#m5e52420b9b\" y=\"85.080918\"/>\r\n     <use style=\"fill:#4c72b0;stroke:#4c72b0;stroke-width:0.3;\" x=\"403.461552\" xlink:href=\"#m5e52420b9b\" y=\"81.453895\"/>\r\n     <use style=\"fill:#4c72b0;stroke:#4c72b0;stroke-width:0.3;\" x=\"409.360965\" xlink:href=\"#m5e52420b9b\" y=\"77.826873\"/>\r\n     <use style=\"fill:#4c72b0;stroke:#4c72b0;stroke-width:0.3;\" x=\"415.867985\" xlink:href=\"#m5e52420b9b\" y=\"74.19985\"/>\r\n     <use style=\"fill:#4c72b0;stroke:#4c72b0;stroke-width:0.3;\" x=\"422.968933\" xlink:href=\"#m5e52420b9b\" y=\"70.572828\"/>\r\n     <use style=\"fill:#4c72b0;stroke:#4c72b0;stroke-width:0.3;\" x=\"428.797571\" xlink:href=\"#m5e52420b9b\" y=\"66.945805\"/>\r\n     <use style=\"fill:#4c72b0;stroke:#4c72b0;stroke-width:0.3;\" x=\"435.117345\" xlink:href=\"#m5e52420b9b\" y=\"63.318783\"/>\r\n     <use style=\"fill:#4c72b0;stroke:#4c72b0;stroke-width:0.3;\" x=\"442.020981\" xlink:href=\"#m5e52420b9b\" y=\"59.69176\"/>\r\n     <use style=\"fill:#4c72b0;stroke:#4c72b0;stroke-width:0.3;\" x=\"448.552161\" xlink:href=\"#m5e52420b9b\" y=\"56.064738\"/>\r\n     <use style=\"fill:#4c72b0;stroke:#4c72b0;stroke-width:0.3;\" x=\"454.690578\" xlink:href=\"#m5e52420b9b\" y=\"52.437715\"/>\r\n     <use style=\"fill:#4c72b0;stroke:#4c72b0;stroke-width:0.3;\" x=\"461.402849\" xlink:href=\"#m5e52420b9b\" y=\"48.810693\"/>\r\n     <use style=\"fill:#4c72b0;stroke:#4c72b0;stroke-width:0.3;\" x=\"468.676313\" xlink:href=\"#m5e52420b9b\" y=\"45.18367\"/>\r\n     <use style=\"fill:#4c72b0;stroke:#4c72b0;stroke-width:0.3;\" x=\"474.566982\" xlink:href=\"#m5e52420b9b\" y=\"41.556648\"/>\r\n    </g>\r\n   </g>\r\n   <g id=\"patch_3\">\r\n    <path d=\"M 53.281719 456.669375 \r\nL 53.281719 21.789375 \r\n\" style=\"fill:none;\"/>\r\n   </g>\r\n   <g id=\"patch_4\">\r\n    <path d=\"M 611.281719 456.669375 \r\nL 611.281719 21.789375 \r\n\" style=\"fill:none;\"/>\r\n   </g>\r\n   <g id=\"patch_5\">\r\n    <path d=\"M 53.281719 456.669375 \r\nL 611.281719 456.669375 \r\n\" style=\"fill:none;\"/>\r\n   </g>\r\n   <g id=\"patch_6\">\r\n    <path d=\"M 53.281719 21.789375 \r\nL 611.281719 21.789375 \r\n\" style=\"fill:none;\"/>\r\n   </g>\r\n   <g id=\"text_18\">\r\n    <!-- Efficient Frontier -->\r\n    <g style=\"fill:#262626;\" transform=\"translate(288.707656 15.789375)scale(0.12 -0.12)\">\r\n     <defs>\r\n      <path d=\"M 556 0 \r\nL 556 2881 \r\nL 59 2881 \r\nL 59 3319 \r\nL 556 3319 \r\nL 556 3672 \r\nQ 556 4006 616 4169 \r\nQ 697 4388 901 4523 \r\nQ 1106 4659 1475 4659 \r\nQ 1713 4659 2000 4603 \r\nL 1916 4113 \r\nQ 1741 4144 1584 4144 \r\nQ 1328 4144 1222 4034 \r\nQ 1116 3925 1116 3625 \r\nL 1116 3319 \r\nL 1763 3319 \r\nL 1763 2881 \r\nL 1116 2881 \r\nL 1116 0 \r\nL 556 0 \r\nz\r\n\" id=\"ArialMT-66\" transform=\"scale(0.015625)\"/>\r\n      <path d=\"M 525 0 \r\nL 525 4581 \r\nL 3616 4581 \r\nL 3616 4041 \r\nL 1131 4041 \r\nL 1131 2622 \r\nL 3281 2622 \r\nL 3281 2081 \r\nL 1131 2081 \r\nL 1131 0 \r\nL 525 0 \r\nz\r\n\" id=\"ArialMT-46\" transform=\"scale(0.015625)\"/>\r\n     </defs>\r\n     <use xlink:href=\"#ArialMT-45\"/>\r\n     <use x=\"66.699219\" xlink:href=\"#ArialMT-66\"/>\r\n     <use x=\"92.732422\" xlink:href=\"#ArialMT-66\"/>\r\n     <use x=\"120.515625\" xlink:href=\"#ArialMT-69\"/>\r\n     <use x=\"142.732422\" xlink:href=\"#ArialMT-63\"/>\r\n     <use x=\"192.732422\" xlink:href=\"#ArialMT-69\"/>\r\n     <use x=\"214.949219\" xlink:href=\"#ArialMT-65\"/>\r\n     <use x=\"270.564453\" xlink:href=\"#ArialMT-6e\"/>\r\n     <use x=\"326.179688\" xlink:href=\"#ArialMT-74\"/>\r\n     <use x=\"353.962891\" xlink:href=\"#ArialMT-20\"/>\r\n     <use x=\"381.746094\" xlink:href=\"#ArialMT-46\"/>\r\n     <use x=\"442.830078\" xlink:href=\"#ArialMT-72\"/>\r\n     <use x=\"476.130859\" xlink:href=\"#ArialMT-6f\"/>\r\n     <use x=\"531.746094\" xlink:href=\"#ArialMT-6e\"/>\r\n     <use x=\"587.361328\" xlink:href=\"#ArialMT-74\"/>\r\n     <use x=\"615.144531\" xlink:href=\"#ArialMT-69\"/>\r\n     <use x=\"637.361328\" xlink:href=\"#ArialMT-65\"/>\r\n     <use x=\"692.976562\" xlink:href=\"#ArialMT-72\"/>\r\n    </g>\r\n   </g>\r\n  </g>\r\n </g>\r\n <defs>\r\n  <clipPath id=\"pf4309439bc\">\r\n   <rect height=\"434.88\" width=\"558\" x=\"53.281719\" y=\"21.789375\"/>\r\n  </clipPath>\r\n </defs>\r\n</svg>\r\n",
      "image/png": "[encoded data removed]"
     },
     "metadata": {}
    }
   ],
   "metadata": {}
  }
 ]
}