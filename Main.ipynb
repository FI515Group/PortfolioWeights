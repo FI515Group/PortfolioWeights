{
 "metadata": {
  "language_info": {
   "codemirror_mode": {
    "name": "ipython",
    "version": 3
   },
   "file_extension": ".py",
   "mimetype": "text/x-python",
   "name": "python",
   "nbconvert_exporter": "python",
   "pygments_lexer": "ipython3",
   "version": "3.8.5"
  },
  "orig_nbformat": 4,
  "kernelspec": {
   "name": "python3",
   "display_name": "Python 3.8.5 64-bit ('Testing': conda)"
  },
  "interpreter": {
   "hash": "f3f1f5f30ed1cd6fcb1de31f894c97120b2cc4e14f7a3e47865ba6f625a05eeb"
  }
 },
 "nbformat": 4,
 "nbformat_minor": 2,
 "cells": [
  {
   "cell_type": "code",
   "execution_count": 26,
   "source": [
    "import pandas as pd \r\n",
    "import numpy as np\r\n",
    "import sys\r\n",
    "import math\r\n",
    "\r\n",
    "import quandl"
   ],
   "outputs": [],
   "metadata": {}
  },
  {
   "cell_type": "code",
   "execution_count": 2,
   "source": [
    "gldDf = pd.read_csv(r\"C:\\Users\\Conno\\OneDrive\\College\\Classes\\9\\FI515\\GLD_Monthly.csv\")\r\n",
    "spyDf = pd.read_csv(r\"C:\\Users\\Conno\\OneDrive\\College\\Classes\\9\\FI515\\SPY_MONTHLY.csv\")\r\n",
    "hygDf = pd.read_csv(r\"C:\\Users\\Conno\\OneDrive\\College\\Classes\\9\\FI515\\HYG_MONTHLY.csv\")\r\n",
    "\r\n",
    "\r\n",
    "print(list(spyDf.columns.values))"
   ],
   "outputs": [
    {
     "output_type": "stream",
     "name": "stdout",
     "text": [
      "['Date', 'Open', 'High', 'Low', 'Close', 'Adj Close', 'Volume']\n"
     ]
    }
   ],
   "metadata": {}
  },
  {
   "cell_type": "markdown",
   "source": [
    "## Calculating each month's return\n",
    "\n",
    "I'm doing each ETF's returns in separate cells so that if one fails I don't have to rerun all of them"
   ],
   "metadata": {}
  },
  {
   "cell_type": "code",
   "execution_count": 3,
   "source": [
    "\r\n",
    "# Initializing variables\r\n",
    "prevMonth = 1\r\n",
    "thisMonth = 1\r\n",
    "\r\n",
    "SPYreturns = []\r\n",
    "\r\n",
    "# Populate the SPY Returns\r\n",
    "for i, spyDfRow in spyDf.iterrows():\r\n",
    "    prevMonth = thisMonth\r\n",
    "    thisMonth = spyDfRow['Adj Close']\r\n",
    "    thisMonthReturn = thisMonth / prevMonth - 1\r\n",
    "    if i == 0:\r\n",
    "        continue\r\n",
    "    SPYreturns.append(thisMonthReturn)\r\n"
   ],
   "outputs": [],
   "metadata": {
    "tags": []
   }
  },
  {
   "cell_type": "code",
   "execution_count": 4,
   "source": [
    "\r\n",
    "# Re-Initializing variables\r\n",
    "prevMonth = 1\r\n",
    "thisMonth = 1\r\n",
    "\r\n",
    "GLDreturns = [] \r\n",
    "\r\n",
    "# Populate the GLD Returns\r\n",
    "for i, gldDfRow in gldDf.iterrows():\r\n",
    "    prevMonth = thisMonth\r\n",
    "    thisMonth = gldDfRow['Adj Close']\r\n",
    "    thisMonthReturn = thisMonth / prevMonth - 1\r\n",
    "    if i == 0:\r\n",
    "        continue\r\n",
    "    GLDreturns.append(thisMonthReturn)\r\n"
   ],
   "outputs": [],
   "metadata": {}
  },
  {
   "cell_type": "code",
   "execution_count": 5,
   "source": [
    "\r\n",
    "# Re-Initializing variables\r\n",
    "prevMonth = 1\r\n",
    "thisMonth = 1\r\n",
    "\r\n",
    "HYGreturns = []\r\n",
    "\r\n",
    "# Populate the HYG Returns\r\n",
    "for i, hygDfRow in hygDf.iterrows():\r\n",
    "    prevMonth = thisMonth\r\n",
    "    thisMonth = hygDfRow['Adj Close']\r\n",
    "    thisMonthReturn = thisMonth / prevMonth - 1\r\n",
    "    if i == 0:\r\n",
    "        continue\r\n",
    "    HYGreturns.append(thisMonthReturn)\r\n"
   ],
   "outputs": [],
   "metadata": {}
  },
  {
   "cell_type": "markdown",
   "source": [
    "## Setting Weights and Finding Combined Returns"
   ],
   "metadata": {}
  },
  {
   "cell_type": "code",
   "execution_count": 6,
   "source": [
    "\r\n",
    "\r\n",
    "# The following method returns a list of the combined returns given weights\r\n",
    "# This assumes all DFs have the same length and range of dates\r\n",
    "def CombinedReturnsGivenWeights(wGLD, wSPY, wHYG):\r\n",
    "    combinedReturns = []\r\n",
    "    for i in range(0, len(SPYreturns)):\r\n",
    "        thisCombinedReturn = wGLD * GLDreturns[i] + wSPY * SPYreturns[i] + wHYG * HYGreturns[i]\r\n",
    "        combinedReturns.append(thisCombinedReturn)\r\n",
    "        \r\n",
    "    return combinedReturns\r\n",
    "\r\n",
    "statsIndexOfAverage = 0\r\n",
    "statsIndexOfStdDev = 1\r\n",
    "\r\n",
    "# Returns a list with 2 indices: 1. The average return, 2. the standard deviation\r\n",
    "def GetStatsFromCombinedReturns(combReturns):\r\n",
    "    averageReturn = sum(combReturns) / len(combReturns)\r\n",
    "    variance = sum([((i - averageReturn) ** 2) for i in combReturns]) / len(combReturns)\r\n",
    "    stdDev = variance ** 0.5\r\n",
    "\r\n",
    "    return [averageReturn, stdDev]\r\n",
    "\r\n"
   ],
   "outputs": [],
   "metadata": {}
  },
  {
   "cell_type": "code",
   "execution_count": 12,
   "source": [
    "\r\n",
    "# Some test weights\r\n",
    "weightGLD = .50\r\n",
    "weightHYG = .20\r\n",
    "weightSPY = 1 - weightHYG - weightGLD\r\n",
    "\r\n",
    "a = CombinedReturnsGivenWeights(weightGLD, weightSPY, weightHYG)\r\n",
    "b = CombinedReturnsGivenWeights(0, 0, 1)\r\n",
    "\r\n",
    "aStats = GetStatsFromCombinedReturns(a)\r\n",
    "bStats = GetStatsFromCombinedReturns(b)\r\n",
    "\r\n",
    "print(\"Stats for a:\\n\", aStats[statsIndexOfAverage], \" | StdDev: \", aStats[statsIndexOfStdDev])\r\n",
    "print(\"Stats for b:\\n\", bStats[statsIndexOfAverage], \" | StdDev: \", bStats[statsIndexOfStdDev])"
   ],
   "outputs": [
    {
     "output_type": "stream",
     "name": "stdout",
     "text": [
      "Stats for a:\n",
      " 0.006040448459098796  | StdDev:  0.02893450118552849\n",
      "Stats for b:\n",
      " 0.005262617808006406  | StdDev:  0.020596770061139358\n"
     ]
    }
   ],
   "metadata": {}
  },
  {
   "cell_type": "markdown",
   "source": [
    "## Now to work on the optimizations\n",
    "\n",
    "This is wildly inefficient. There's almost definitely a better way, but the dataset is small so I can get away with it"
   ],
   "metadata": {}
  },
  {
   "cell_type": "code",
   "execution_count": 23,
   "source": [
    "\r\n",
    "def OptimizeAverage(givenStdDev = None):\r\n",
    "    # Initialize to a super negative number to make sure that it gets overwritten\r\n",
    "    maxAverage = -(sys.float_info.max - 2)\r\n",
    "    stdDevOfBestAverage = 0\r\n",
    "\r\n",
    "    comparisonValue = 0\r\n",
    "    # Determine if we need to maintain a specific average\r\n",
    "    if givenStdDev != None:\r\n",
    "        comparisonValue = round(givenStdDev * 10000)/10000\r\n",
    "\r\n",
    "    bestGLDWeight = 0\r\n",
    "    bestSPYWeight = 0\r\n",
    "    bestHYGWeight = 0\r\n",
    "\r\n",
    "    for i in np.arange(0, 1, 0.01):\r\n",
    "        for j in np.arange(0, 1 - i, 0.01):\r\n",
    "            k = 1 - i - j\r\n",
    "\r\n",
    "            currentCombinedReturns = CombinedReturnsGivenWeights(i, j, k)\r\n",
    "            currentStats = GetStatsFromCombinedReturns(currentCombinedReturns)  \r\n",
    "\r\n",
    "            currentStdDev = currentStats[statsIndexOfStdDev]\r\n",
    "            currentAverage = currentStats[statsIndexOfAverage]\r\n",
    "            \r\n",
    "            if currentAverage >= maxAverage and (givenStdDev == None or round(currentStdDev * 10000)/10000 == comparisonValue):\r\n",
    "                bestGLDWeight = i\r\n",
    "                bestSPYWeight = j\r\n",
    "                bestHYGWeight = k\r\n",
    "\r\n",
    "                maxAverage = currentAverage\r\n",
    "                stdDevOfBestAverage = currentStdDev\r\n",
    "\r\n",
    "    return {\r\n",
    "        \"StdDev\" : stdDevOfBestAverage,\r\n",
    "        \"Average\" : maxAverage,\r\n",
    "        \"GLDWeight\" : bestGLDWeight,\r\n",
    "        \"SPYWeight\" : bestSPYWeight,\r\n",
    "        \"HYGWeight\" : bestHYGWeight\r\n",
    "    }\r\n",
    "\r\n",
    "OptimizeAverage(.0291)"
   ],
   "outputs": [
    {
     "output_type": "execute_result",
     "data": {
      "text/plain": [
       "{'StdDev': 0.029144455093565218,\n",
       " 'Average': 0.010188639803523143,\n",
       " 'GLDWeight': 0.02,\n",
       " 'SPYWeight': 0.5700000000000001,\n",
       " 'HYGWeight': 0.4099999999999999}"
      ]
     },
     "metadata": {},
     "execution_count": 23
    }
   ],
   "metadata": {}
  },
  {
   "cell_type": "code",
   "execution_count": 35,
   "source": [
    "\r\n",
    "def OptimizeStdDev(givenAverage = None):\r\n",
    "    # Initialize to a super positive number to make sure that it gets overwritten\r\n",
    "    minStdDev = sys.float_info.max - 2\r\n",
    "    avgOfMinStdDev = 0\r\n",
    "\r\n",
    "    comparisonValue = 0\r\n",
    "    # Determine if we need to maintain a specific average\r\n",
    "    if givenAverage != None:\r\n",
    "        comparisonValue = round(givenAverage * 10000)/10000\r\n",
    "\r\n",
    "    bestGLDWeight = 0\r\n",
    "    bestSPYWeight = 0\r\n",
    "    bestHYGWeight = 0\r\n",
    "\r\n",
    "    for i in np.arange(0, 1, 0.01):\r\n",
    "        for j in np.arange(0, 1 - i, 0.01):\r\n",
    "            k = 1 - i - j\r\n",
    "\r\n",
    "            currentCombinedReturns = CombinedReturnsGivenWeights(i, j, k)\r\n",
    "            currentStats = GetStatsFromCombinedReturns(currentCombinedReturns)\r\n",
    "\r\n",
    "            currentStdDev = currentStats[statsIndexOfStdDev]\r\n",
    "            currentAverage = currentStats[statsIndexOfAverage]\r\n",
    "            \r\n",
    "            if currentStdDev <= minStdDev and (givenAverage == None or round(currentAverage * 10000)/10000 == comparisonValue):\r\n",
    "                bestGLDWeight = i\r\n",
    "                bestSPYWeight = j\r\n",
    "                bestHYGWeight = k\r\n",
    "\r\n",
    "                minStdDev = currentStdDev\r\n",
    "                avgOfMinStdDev = currentAverage\r\n",
    "\r\n",
    "    return {\r\n",
    "        \"StdDev\" : minStdDev,\r\n",
    "        \"Average\" : avgOfMinStdDev,\r\n",
    "        \"GLDWeight\" : bestGLDWeight,\r\n",
    "        \"SPYWeight\" : bestSPYWeight,\r\n",
    "        \"HYGWeight\" : bestHYGWeight\r\n",
    "    }\r\n",
    "\r\n",
    "OptimizeStdDev(.006)"
   ],
   "outputs": [
    {
     "output_type": "execute_result",
     "data": {
      "text/plain": [
       "{'StdDev': 0.021297335009892344,\n",
       " 'Average': 0.005954457528784305,\n",
       " 'GLDWeight': 0.05,\n",
       " 'SPYWeight': 0.1,\n",
       " 'HYGWeight': 0.85}"
      ]
     },
     "metadata": {},
     "execution_count": 35
    }
   ],
   "metadata": {
    "tags": []
   }
  },
  {
   "cell_type": "code",
   "execution_count": 10,
   "source": [
    "OptimizeAverage()"
   ],
   "outputs": [
    {
     "output_type": "execute_result",
     "data": {
      "text/plain": [
       "{'StdDev': 0.03848549313117964,\n",
       " 'Average': 0.01394713336674889,\n",
       " 'GLDWeight': 0.0,\n",
       " 'SPYWeight': 0.99,\n",
       " 'HYGWeight': 0.010000000000000009}"
      ]
     },
     "metadata": {},
     "execution_count": 10
    }
   ],
   "metadata": {}
  },
  {
   "cell_type": "code",
   "execution_count": 11,
   "source": [
    "OptimizeStdDev()"
   ],
   "outputs": [
    {
     "output_type": "execute_result",
     "data": {
      "text/plain": [
       "{'StdDev': 0.020282783077293216,\n",
       " 'Average': 0.004966003291151251,\n",
       " 'GLDWeight': 0.08,\n",
       " 'SPYWeight': 0.0,\n",
       " 'HYGWeight': 0.92}"
      ]
     },
     "metadata": {},
     "execution_count": 11
    }
   ],
   "metadata": {}
  },
  {
   "cell_type": "code",
   "execution_count": 25,
   "source": [
    "OptimizeStdDev(.011)\r\n",
    "    "
   ],
   "outputs": [
    {
     "output_type": "stream",
     "name": "stdout",
     "text": [
      "0.011\n"
     ]
    },
    {
     "output_type": "execute_result",
     "data": {
      "text/plain": [
       "{'StdDev': 0.030935227113256684,\n",
       " 'Average': 0.010954633153514826,\n",
       " 'GLDWeight': 0.05,\n",
       " 'SPYWeight': 0.67,\n",
       " 'HYGWeight': 0.2799999999999999}"
      ]
     },
     "metadata": {},
     "execution_count": 25
    }
   ],
   "metadata": {}
  },
  {
   "cell_type": "code",
   "execution_count": 41,
   "source": [
    "stdDevs = []\r\n",
    "\r\n",
    "for i in np.arange(.002,.013,.0001):\r\n",
    "    stdDevs.append(OptimizeStdDev(i)[\"StdDev\"])\r\n",
    "\r\n",
    "print(stdDevs)"
   ],
   "outputs": [
    {
     "output_type": "stream",
     "name": "stdout",
     "text": [
      "[0.03996519080841734, 0.03884124920800809, 0.03809859806613818, 0.036995386396406774, 0.035906150175576836, 0.03518839841598085, 0.03412544014693948, 0.03308028889172886, 0.03239426652812402, 0.03138276004691008, 0.030394149407839653, 0.02943074199009548, 0.028803723777286135, 0.027888134316024014, 0.027005168646322863, 0.026436268478193706, 0.025615164753867763, 0.02483615520731392, 0.024342205960034797, 0.02364255078124311, 0.022996412539435577, 0.022597668094010193, 0.022051046729264476, 0.021570356654972353, 0.021160091596837658, 0.02092778126332146, 0.020643897284625953, 0.020440316225251758, 0.02035043753070996, 0.02028560120652923, 0.020282783077293216, 0.020330765333421923, 0.02040953039490128, 0.020499734105734083, 0.02062708301001665, 0.02072047195645214, 0.02081688951934831, 0.020942675185579625, 0.021070123459472682, 0.02117637036788433, 0.021297335009892344, 0.02145661982083457, 0.021573042234809846, 0.02169214823295701, 0.02184604537963102, 0.02199721167207854, 0.022124965383920343, 0.022273292502587687, 0.02245774862424252, 0.022593602487449117, 0.022736345373099435, 0.022914830433445416, 0.023086581391784464, 0.023233063181293825, 0.023405305799167095, 0.023607888890473983, 0.023761334779200036, 0.023927373594976802, 0.02412705761427755, 0.024316431885398046, 0.024479012573973676, 0.024671903462515302, 0.02488975818935804, 0.025058269850131897, 0.025244459068214955, 0.025462247833139835, 0.02566327533674136, 0.025842882746938002, 0.02605346429247515, 0.026284090394170404, 0.02646541980659463, 0.02666893174471786, 0.026902098813554542, 0.027088621173960662, 0.02730701047371651, 0.027532687538257748, 0.027723690010696363, 0.0279661528183804, 0.028159589490102027, 0.028379650462155452, 0.028627332494696026, 0.02884217350929472, 0.029055087587910575, 0.02929509825972174, 0.02954270547989061, 0.02974867477670711, 0.029981217122954228, 0.03023971948748635, 0.030459172166057365, 0.030684457957454555, 0.030935227113256684, 0.03118542398228471, 0.03140367051721771, 0.031646925605148146, 0.03191461740122068, 0.032137782524736196, 0.032373747169719025, 0.03263371678671071, 0.03288579619079658, 0.03311469603064627, 0.033367171300640576, 0.033642691231754736, 0.033868845011860216, 0.03411405504684893, 0.03438191917776219, 0.034635331866676514, 0.03487350519684944, 0.035133944287814536, 0.0354161579371412, 0.03564471853629976]\n"
     ]
    }
   ],
   "metadata": {}
  },
  {
   "cell_type": "code",
   "execution_count": 42,
   "source": [
    "for i in stdDevs:\r\n",
    "    if abs(i) < 10:\r\n",
    "        print(i)"
   ],
   "outputs": [
    {
     "output_type": "stream",
     "name": "stdout",
     "text": [
      "0.03996519080841734\n",
      "0.03884124920800809\n",
      "0.03809859806613818\n",
      "0.036995386396406774\n",
      "0.035906150175576836\n",
      "0.03518839841598085\n",
      "0.03412544014693948\n",
      "0.03308028889172886\n",
      "0.03239426652812402\n",
      "0.03138276004691008\n",
      "0.030394149407839653\n",
      "0.02943074199009548\n",
      "0.028803723777286135\n",
      "0.027888134316024014\n",
      "0.027005168646322863\n",
      "0.026436268478193706\n",
      "0.025615164753867763\n",
      "0.02483615520731392\n",
      "0.024342205960034797\n",
      "0.02364255078124311\n",
      "0.022996412539435577\n",
      "0.022597668094010193\n",
      "0.022051046729264476\n",
      "0.021570356654972353\n",
      "0.021160091596837658\n",
      "0.02092778126332146\n",
      "0.020643897284625953\n",
      "0.020440316225251758\n",
      "0.02035043753070996\n",
      "0.02028560120652923\n",
      "0.020282783077293216\n",
      "0.020330765333421923\n",
      "0.02040953039490128\n",
      "0.020499734105734083\n",
      "0.02062708301001665\n",
      "0.02072047195645214\n",
      "0.02081688951934831\n",
      "0.020942675185579625\n",
      "0.021070123459472682\n",
      "0.02117637036788433\n",
      "0.021297335009892344\n",
      "0.02145661982083457\n",
      "0.021573042234809846\n",
      "0.02169214823295701\n",
      "0.02184604537963102\n",
      "0.02199721167207854\n",
      "0.022124965383920343\n",
      "0.022273292502587687\n",
      "0.02245774862424252\n",
      "0.022593602487449117\n",
      "0.022736345373099435\n",
      "0.022914830433445416\n",
      "0.023086581391784464\n",
      "0.023233063181293825\n",
      "0.023405305799167095\n",
      "0.023607888890473983\n",
      "0.023761334779200036\n",
      "0.023927373594976802\n",
      "0.02412705761427755\n",
      "0.024316431885398046\n",
      "0.024479012573973676\n",
      "0.024671903462515302\n",
      "0.02488975818935804\n",
      "0.025058269850131897\n",
      "0.025244459068214955\n",
      "0.025462247833139835\n",
      "0.02566327533674136\n",
      "0.025842882746938002\n",
      "0.02605346429247515\n",
      "0.026284090394170404\n",
      "0.02646541980659463\n",
      "0.02666893174471786\n",
      "0.026902098813554542\n",
      "0.027088621173960662\n",
      "0.02730701047371651\n",
      "0.027532687538257748\n",
      "0.027723690010696363\n",
      "0.0279661528183804\n",
      "0.028159589490102027\n",
      "0.028379650462155452\n",
      "0.028627332494696026\n",
      "0.02884217350929472\n",
      "0.029055087587910575\n",
      "0.02929509825972174\n",
      "0.02954270547989061\n",
      "0.02974867477670711\n",
      "0.029981217122954228\n",
      "0.03023971948748635\n",
      "0.030459172166057365\n",
      "0.030684457957454555\n",
      "0.030935227113256684\n",
      "0.03118542398228471\n",
      "0.03140367051721771\n",
      "0.031646925605148146\n",
      "0.03191461740122068\n",
      "0.032137782524736196\n",
      "0.032373747169719025\n",
      "0.03263371678671071\n",
      "0.03288579619079658\n",
      "0.03311469603064627\n",
      "0.033367171300640576\n",
      "0.033642691231754736\n",
      "0.033868845011860216\n",
      "0.03411405504684893\n",
      "0.03438191917776219\n",
      "0.034635331866676514\n",
      "0.03487350519684944\n",
      "0.035133944287814536\n",
      "0.0354161579371412\n",
      "0.03564471853629976\n"
     ]
    }
   ],
   "metadata": {}
  },
  {
   "cell_type": "code",
   "execution_count": 43,
   "source": [
    "import matplotlib.pyplot as plt\r\n",
    "\r\n",
    "plt.style.use('seaborn')\r\n",
    "# df.plot.scatter(x='Volatility', y='Returns', figsize=(10, 8), grid=True)\r\n",
    "plt.xlabel('Volatility (Std. Deviation)')\r\n",
    "plt.ylabel('Expected Returns')\r\n",
    "plt.title('Efficient Frontier')\r\n",
    "plt.show()"
   ],
   "outputs": [],
   "metadata": {}
  }
 ]
}